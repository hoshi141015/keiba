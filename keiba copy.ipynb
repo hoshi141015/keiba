{
 "cells": [
  {
   "cell_type": "code",
   "execution_count": 1,
   "id": "86c22ca6-0587-4ff7-ab5e-5fbdf54956c8",
   "metadata": {},
   "outputs": [],
   "source": [
    "import pandas as pd\n",
    "import numpy as np\n",
    "import datetime\n",
    "from tqdm import tqdm_notebook as tqdm\n",
    "from sklearn.metrics import roc_curve,roc_auc_score\n",
    "from sklearn.preprocessing import LabelEncoder\n",
    "import lightgbm as lgb\n",
    "import requests\n",
    "from bs4 import BeautifulSoup\n",
    "import time\n",
    "from tqdm.notebook import tqdm\n",
    "import re\n",
    "from urllib.request import urlopen\n",
    "from imblearn.under_sampling import RandomUnderSampler\n",
    "from sklearn.ensemble import RandomForestClassifier\n",
    "import matplotlib.pyplot as plt\n",
    "from jupyterthemes import jtplot"
   ]
  },
  {
   "cell_type": "markdown",
   "id": "32d527e6-05c1-4fac-acaa-8144c2d86d7f",
   "metadata": {},
   "source": [
    "## 1.スクレイピング"
   ]
  },
  {
   "cell_type": "markdown",
   "id": "ff0fc913-d3fd-4b89-90ad-2b9f6ba4eabb",
   "metadata": {},
   "source": [
    "## 封印"
   ]
  },
  {
   "cell_type": "code",
   "execution_count": 3,
   "id": "33289b06-3e41-4e0e-ab7b-3e6653c7f857",
   "metadata": {},
   "outputs": [
    {
     "ename": "ImportError",
     "evalue": "IProgress not found. Please update jupyter and ipywidgets. See https://ipywidgets.readthedocs.io/en/stable/user_install.html",
     "output_type": "error",
     "traceback": [
      "\u001b[0;31m---------------------------------------------------------------------------\u001b[0m",
      "\u001b[0;31mImportError\u001b[0m                               Traceback (most recent call last)",
      "\u001b[1;32m/home/hoshi/keiba/keiba copy.ipynb Cell 4'\u001b[0m in \u001b[0;36m<cell line: 33>\u001b[0;34m()\u001b[0m\n\u001b[1;32m     <a href='vscode-notebook-cell://wsl%2Bubuntu-20.04/home/hoshi/keiba/keiba%20copy.ipynb#ch0000003vscode-remote?line=28'>29</a>\u001b[0m                 race_id_list\u001b[39m.\u001b[39mappend(race_id)\n\u001b[1;32m     <a href='vscode-notebook-cell://wsl%2Bubuntu-20.04/home/hoshi/keiba/keiba%20copy.ipynb#ch0000003vscode-remote?line=30'>31</a>\u001b[0m \u001b[39m#スクレイピングしてデータを保存\u001b[39;00m\n\u001b[0;32m---> <a href='vscode-notebook-cell://wsl%2Bubuntu-20.04/home/hoshi/keiba/keiba%20copy.ipynb#ch0000003vscode-remote?line=32'>33</a>\u001b[0m test3 \u001b[39m=\u001b[39m scrape_race_results(race_id_list)\n\u001b[1;32m     <a href='vscode-notebook-cell://wsl%2Bubuntu-20.04/home/hoshi/keiba/keiba%20copy.ipynb#ch0000003vscode-remote?line=33'>34</a>\u001b[0m \u001b[39mfor\u001b[39;00m key \u001b[39min\u001b[39;00m test3: \u001b[39m#.keys()は無くても大丈夫です\u001b[39;00m\n\u001b[1;32m     <a href='vscode-notebook-cell://wsl%2Bubuntu-20.04/home/hoshi/keiba/keiba%20copy.ipynb#ch0000003vscode-remote?line=34'>35</a>\u001b[0m     test3[key]\u001b[39m.\u001b[39mindex \u001b[39m=\u001b[39m [key] \u001b[39m*\u001b[39m \u001b[39mlen\u001b[39m(test3[key])\n",
      "\u001b[1;32m/home/hoshi/keiba/keiba copy.ipynb Cell 4'\u001b[0m in \u001b[0;36mscrape_race_results\u001b[0;34m(race_id_list, pre_race_results)\u001b[0m\n\u001b[1;32m      <a href='vscode-notebook-cell://wsl%2Bubuntu-20.04/home/hoshi/keiba/keiba%20copy.ipynb#ch0000003vscode-remote?line=0'>1</a>\u001b[0m \u001b[39mdef\u001b[39;00m \u001b[39mscrape_race_results\u001b[39m(race_id_list, pre_race_results\u001b[39m=\u001b[39m{}):\n\u001b[1;32m      <a href='vscode-notebook-cell://wsl%2Bubuntu-20.04/home/hoshi/keiba/keiba%20copy.ipynb#ch0000003vscode-remote?line=1'>2</a>\u001b[0m     \u001b[39m#race_results = pre_race_results\u001b[39;00m\n\u001b[1;32m      <a href='vscode-notebook-cell://wsl%2Bubuntu-20.04/home/hoshi/keiba/keiba%20copy.ipynb#ch0000003vscode-remote?line=2'>3</a>\u001b[0m     race_results \u001b[39m=\u001b[39m pre_race_results\u001b[39m.\u001b[39mcopy() \u001b[39m#正しくはこちら。注意点で解説。\u001b[39;00m\n\u001b[0;32m----> <a href='vscode-notebook-cell://wsl%2Bubuntu-20.04/home/hoshi/keiba/keiba%20copy.ipynb#ch0000003vscode-remote?line=3'>4</a>\u001b[0m     \u001b[39mfor\u001b[39;00m race_id \u001b[39min\u001b[39;00m tqdm(race_id_list):\n\u001b[1;32m      <a href='vscode-notebook-cell://wsl%2Bubuntu-20.04/home/hoshi/keiba/keiba%20copy.ipynb#ch0000003vscode-remote?line=4'>5</a>\u001b[0m         \u001b[39mif\u001b[39;00m race_id \u001b[39min\u001b[39;00m race_results\u001b[39m.\u001b[39mkeys():\n\u001b[1;32m      <a href='vscode-notebook-cell://wsl%2Bubuntu-20.04/home/hoshi/keiba/keiba%20copy.ipynb#ch0000003vscode-remote?line=5'>6</a>\u001b[0m             \u001b[39mcontinue\u001b[39;00m\n",
      "File \u001b[0;32m~/.local/lib/python3.8/site-packages/tqdm/notebook.py:242\u001b[0m, in \u001b[0;36mtqdm_notebook.__init__\u001b[0;34m(self, *args, **kwargs)\u001b[0m\n\u001b[1;32m    <a href='file:///~/.local/lib/python3.8/site-packages/tqdm/notebook.py?line=239'>240</a>\u001b[0m unit_scale \u001b[39m=\u001b[39m \u001b[39m1\u001b[39m \u001b[39mif\u001b[39;00m \u001b[39mself\u001b[39m\u001b[39m.\u001b[39munit_scale \u001b[39mis\u001b[39;00m \u001b[39mTrue\u001b[39;00m \u001b[39melse\u001b[39;00m \u001b[39mself\u001b[39m\u001b[39m.\u001b[39munit_scale \u001b[39mor\u001b[39;00m \u001b[39m1\u001b[39m\n\u001b[1;32m    <a href='file:///~/.local/lib/python3.8/site-packages/tqdm/notebook.py?line=240'>241</a>\u001b[0m total \u001b[39m=\u001b[39m \u001b[39mself\u001b[39m\u001b[39m.\u001b[39mtotal \u001b[39m*\u001b[39m unit_scale \u001b[39mif\u001b[39;00m \u001b[39mself\u001b[39m\u001b[39m.\u001b[39mtotal \u001b[39melse\u001b[39;00m \u001b[39mself\u001b[39m\u001b[39m.\u001b[39mtotal\n\u001b[0;32m--> <a href='file:///~/.local/lib/python3.8/site-packages/tqdm/notebook.py?line=241'>242</a>\u001b[0m \u001b[39mself\u001b[39m\u001b[39m.\u001b[39mcontainer \u001b[39m=\u001b[39m \u001b[39mself\u001b[39;49m\u001b[39m.\u001b[39;49mstatus_printer(\u001b[39mself\u001b[39;49m\u001b[39m.\u001b[39;49mfp, total, \u001b[39mself\u001b[39;49m\u001b[39m.\u001b[39;49mdesc, \u001b[39mself\u001b[39;49m\u001b[39m.\u001b[39;49mncols)\n\u001b[1;32m    <a href='file:///~/.local/lib/python3.8/site-packages/tqdm/notebook.py?line=242'>243</a>\u001b[0m \u001b[39mself\u001b[39m\u001b[39m.\u001b[39mcontainer\u001b[39m.\u001b[39mpbar \u001b[39m=\u001b[39m proxy(\u001b[39mself\u001b[39m)\n\u001b[1;32m    <a href='file:///~/.local/lib/python3.8/site-packages/tqdm/notebook.py?line=243'>244</a>\u001b[0m \u001b[39mself\u001b[39m\u001b[39m.\u001b[39mdisplayed \u001b[39m=\u001b[39m \u001b[39mFalse\u001b[39;00m\n",
      "File \u001b[0;32m~/.local/lib/python3.8/site-packages/tqdm/notebook.py:118\u001b[0m, in \u001b[0;36mtqdm_notebook.status_printer\u001b[0;34m(_, total, desc, ncols)\u001b[0m\n\u001b[1;32m    <a href='file:///~/.local/lib/python3.8/site-packages/tqdm/notebook.py?line=108'>109</a>\u001b[0m \u001b[39m# Fallback to text bar if there's no total\u001b[39;00m\n\u001b[1;32m    <a href='file:///~/.local/lib/python3.8/site-packages/tqdm/notebook.py?line=109'>110</a>\u001b[0m \u001b[39m# DEPRECATED: replaced with an 'info' style bar\u001b[39;00m\n\u001b[1;32m    <a href='file:///~/.local/lib/python3.8/site-packages/tqdm/notebook.py?line=110'>111</a>\u001b[0m \u001b[39m# if not total:\u001b[39;00m\n\u001b[0;32m   (...)\u001b[0m\n\u001b[1;32m    <a href='file:///~/.local/lib/python3.8/site-packages/tqdm/notebook.py?line=114'>115</a>\u001b[0m \n\u001b[1;32m    <a href='file:///~/.local/lib/python3.8/site-packages/tqdm/notebook.py?line=115'>116</a>\u001b[0m \u001b[39m# Prepare IPython progress bar\u001b[39;00m\n\u001b[1;32m    <a href='file:///~/.local/lib/python3.8/site-packages/tqdm/notebook.py?line=116'>117</a>\u001b[0m \u001b[39mif\u001b[39;00m IProgress \u001b[39mis\u001b[39;00m \u001b[39mNone\u001b[39;00m:  \u001b[39m# #187 #451 #558 #872\u001b[39;00m\n\u001b[0;32m--> <a href='file:///~/.local/lib/python3.8/site-packages/tqdm/notebook.py?line=117'>118</a>\u001b[0m     \u001b[39mraise\u001b[39;00m \u001b[39mImportError\u001b[39;00m(WARN_NOIPYW)\n\u001b[1;32m    <a href='file:///~/.local/lib/python3.8/site-packages/tqdm/notebook.py?line=118'>119</a>\u001b[0m \u001b[39mif\u001b[39;00m total:\n\u001b[1;32m    <a href='file:///~/.local/lib/python3.8/site-packages/tqdm/notebook.py?line=119'>120</a>\u001b[0m     pbar \u001b[39m=\u001b[39m IProgress(\u001b[39mmin\u001b[39m\u001b[39m=\u001b[39m\u001b[39m0\u001b[39m, \u001b[39mmax\u001b[39m\u001b[39m=\u001b[39mtotal)\n",
      "\u001b[0;31mImportError\u001b[0m: IProgress not found. Please update jupyter and ipywidgets. See https://ipywidgets.readthedocs.io/en/stable/user_install.html"
     ]
    }
   ],
   "source": [
    "\n",
    "def scrape_race_results(race_id_list, pre_race_results={}):\n",
    "    #race_results = pre_race_results\n",
    "    race_results = pre_race_results.copy() #正しくはこちら。注意点で解説。\n",
    "    for race_id in tqdm(race_id_list):\n",
    "        if race_id in race_results.keys():\n",
    "            continue\n",
    "        try:\n",
    "            time.sleep(1)\n",
    "            url = \"https://db.netkeiba.com/race/\" + race_id\n",
    "            race_results[race_id] = pd.read_html(url)[0]\n",
    "        except IndexError:\n",
    "            continue\n",
    "\t#この部分は動画中に無いですが、捕捉できるエラーは拾った方が、エラーが出たときに分かりやすいです\n",
    "        except Exception as e:\n",
    "            print(e)\n",
    "            break\n",
    "        except:\n",
    "\t        break\n",
    "    return race_results\n",
    "\n",
    "#レースIDのリストを作る\n",
    "race_id_list = []\n",
    "for place in range(1, 11, 1):\n",
    "    for kai in range(1, 6, 1):\n",
    "        for day in range(1, 13, 1):\n",
    "            for r in range(1, 13, 1):\n",
    "                race_id = \"2019\" + str(place).zfill(2) + str(kai).zfill(2) +\\\n",
    "\t\t        str(day).zfill(2) + str(r).zfill(2)\n",
    "                race_id_list.append(race_id)\n",
    "\n",
    "#スクレイピングしてデータを保存\n",
    "\n",
    "test3 = scrape_race_results(race_id_list)\n",
    "for key in test3: #.keys()は無くても大丈夫です\n",
    "    test3[key].index = [key] * len(test3[key])\n",
    "results = pd.concat([test3[key] for key in test3], sort=False) \n",
    "results.to_pickle('results_fix.pickle')\n"
   ]
  },
  {
   "cell_type": "code",
   "execution_count": 2,
   "id": "c5a93259",
   "metadata": {},
   "outputs": [
    {
     "data": {
      "text/html": [
       "<div>\n",
       "<style scoped>\n",
       "    .dataframe tbody tr th:only-of-type {\n",
       "        vertical-align: middle;\n",
       "    }\n",
       "\n",
       "    .dataframe tbody tr th {\n",
       "        vertical-align: top;\n",
       "    }\n",
       "\n",
       "    .dataframe thead th {\n",
       "        text-align: right;\n",
       "    }\n",
       "</style>\n",
       "<table border=\"1\" class=\"dataframe\">\n",
       "  <thead>\n",
       "    <tr style=\"text-align: right;\">\n",
       "      <th></th>\n",
       "      <th>着順</th>\n",
       "      <th>枠番</th>\n",
       "      <th>馬番</th>\n",
       "      <th>馬名</th>\n",
       "      <th>性齢</th>\n",
       "      <th>斤量</th>\n",
       "      <th>騎手</th>\n",
       "      <th>タイム</th>\n",
       "      <th>着差</th>\n",
       "      <th>単勝</th>\n",
       "      <th>人気</th>\n",
       "      <th>馬体重</th>\n",
       "      <th>調教師</th>\n",
       "    </tr>\n",
       "  </thead>\n",
       "  <tbody>\n",
       "    <tr>\n",
       "      <th>0</th>\n",
       "      <td>1</td>\n",
       "      <td>1</td>\n",
       "      <td>1</td>\n",
       "      <td>ゴルコンダ</td>\n",
       "      <td>牡2</td>\n",
       "      <td>54</td>\n",
       "      <td>ルメール</td>\n",
       "      <td>1:48.3</td>\n",
       "      <td>NaN</td>\n",
       "      <td>1.4</td>\n",
       "      <td>1</td>\n",
       "      <td>518(-16)</td>\n",
       "      <td>[東] 木村哲也</td>\n",
       "    </tr>\n",
       "    <tr>\n",
       "      <th>1</th>\n",
       "      <td>2</td>\n",
       "      <td>3</td>\n",
       "      <td>3</td>\n",
       "      <td>プントファイヤー</td>\n",
       "      <td>牡2</td>\n",
       "      <td>54</td>\n",
       "      <td>岩田康誠</td>\n",
       "      <td>1:50.1</td>\n",
       "      <td>大</td>\n",
       "      <td>3.5</td>\n",
       "      <td>2</td>\n",
       "      <td>496(-8)</td>\n",
       "      <td>[東] 手塚貴久</td>\n",
       "    </tr>\n",
       "    <tr>\n",
       "      <th>2</th>\n",
       "      <td>3</td>\n",
       "      <td>4</td>\n",
       "      <td>4</td>\n",
       "      <td>ラグリマスネグラス</td>\n",
       "      <td>牡2</td>\n",
       "      <td>51</td>\n",
       "      <td>団野大成</td>\n",
       "      <td>1:50.9</td>\n",
       "      <td>5</td>\n",
       "      <td>46.6</td>\n",
       "      <td>6</td>\n",
       "      <td>546(+6)</td>\n",
       "      <td>[東] 藤沢和雄</td>\n",
       "    </tr>\n",
       "    <tr>\n",
       "      <th>3</th>\n",
       "      <td>4</td>\n",
       "      <td>8</td>\n",
       "      <td>9</td>\n",
       "      <td>キタノコドウ</td>\n",
       "      <td>牡2</td>\n",
       "      <td>51</td>\n",
       "      <td>菅原明良</td>\n",
       "      <td>1:51.5</td>\n",
       "      <td>3.1/2</td>\n",
       "      <td>56.8</td>\n",
       "      <td>7</td>\n",
       "      <td>458(-8)</td>\n",
       "      <td>[東] 高木登</td>\n",
       "    </tr>\n",
       "    <tr>\n",
       "      <th>4</th>\n",
       "      <td>5</td>\n",
       "      <td>5</td>\n",
       "      <td>5</td>\n",
       "      <td>ネモフィラブルー</td>\n",
       "      <td>牡2</td>\n",
       "      <td>54</td>\n",
       "      <td>川島信二</td>\n",
       "      <td>1:51.7</td>\n",
       "      <td>1.1/2</td>\n",
       "      <td>140.3</td>\n",
       "      <td>9</td>\n",
       "      <td>436(0)</td>\n",
       "      <td>[西] 矢作芳人</td>\n",
       "    </tr>\n",
       "    <tr>\n",
       "      <th>5</th>\n",
       "      <td>6</td>\n",
       "      <td>8</td>\n",
       "      <td>8</td>\n",
       "      <td>マイネルラクスマン</td>\n",
       "      <td>牡2</td>\n",
       "      <td>54</td>\n",
       "      <td>丹内祐次</td>\n",
       "      <td>1:52.1</td>\n",
       "      <td>2.1/2</td>\n",
       "      <td>9.7</td>\n",
       "      <td>3</td>\n",
       "      <td>480(+8)</td>\n",
       "      <td>[東] 金成貴史</td>\n",
       "    </tr>\n",
       "    <tr>\n",
       "      <th>6</th>\n",
       "      <td>7</td>\n",
       "      <td>2</td>\n",
       "      <td>2</td>\n",
       "      <td>サンモンテベロ</td>\n",
       "      <td>牝2</td>\n",
       "      <td>54</td>\n",
       "      <td>黛弘人</td>\n",
       "      <td>1:52.5</td>\n",
       "      <td>2.1/2</td>\n",
       "      <td>114.7</td>\n",
       "      <td>8</td>\n",
       "      <td>450(+2)</td>\n",
       "      <td>[東] 中野栄治</td>\n",
       "    </tr>\n",
       "    <tr>\n",
       "      <th>7</th>\n",
       "      <td>8</td>\n",
       "      <td>7</td>\n",
       "      <td>7</td>\n",
       "      <td>エスカレーション</td>\n",
       "      <td>牝2</td>\n",
       "      <td>54</td>\n",
       "      <td>藤岡佑介</td>\n",
       "      <td>1:52.5</td>\n",
       "      <td>アタマ</td>\n",
       "      <td>26.1</td>\n",
       "      <td>5</td>\n",
       "      <td>448(-4)</td>\n",
       "      <td>[東] 高柳瑞樹</td>\n",
       "    </tr>\n",
       "    <tr>\n",
       "      <th>8</th>\n",
       "      <td>9</td>\n",
       "      <td>6</td>\n",
       "      <td>6</td>\n",
       "      <td>セイウンジュリア</td>\n",
       "      <td>牝2</td>\n",
       "      <td>54</td>\n",
       "      <td>池添謙一</td>\n",
       "      <td>1:52.6</td>\n",
       "      <td>クビ</td>\n",
       "      <td>16.4</td>\n",
       "      <td>4</td>\n",
       "      <td>470(0)</td>\n",
       "      <td>[西] 浅見秀一</td>\n",
       "    </tr>\n",
       "  </tbody>\n",
       "</table>\n",
       "</div>"
      ],
      "text/plain": [
       "   着順  枠番  馬番         馬名  性齢  斤量    騎手     タイム     着差     単勝  人気       馬体重  \\\n",
       "0   1   1   1      ゴルコンダ  牡2  54  ルメール  1:48.3    NaN    1.4   1  518(-16)   \n",
       "1   2   3   3   プントファイヤー  牡2  54  岩田康誠  1:50.1      大    3.5   2   496(-8)   \n",
       "2   3   4   4  ラグリマスネグラス  牡2  51  団野大成  1:50.9      5   46.6   6   546(+6)   \n",
       "3   4   8   9     キタノコドウ  牡2  51  菅原明良  1:51.5  3.1/2   56.8   7   458(-8)   \n",
       "4   5   5   5   ネモフィラブルー  牡2  54  川島信二  1:51.7  1.1/2  140.3   9    436(0)   \n",
       "5   6   8   8  マイネルラクスマン  牡2  54  丹内祐次  1:52.1  2.1/2    9.7   3   480(+8)   \n",
       "6   7   2   2    サンモンテベロ  牝2  54   黛弘人  1:52.5  2.1/2  114.7   8   450(+2)   \n",
       "7   8   7   7   エスカレーション  牝2  54  藤岡佑介  1:52.5    アタマ   26.1   5   448(-4)   \n",
       "8   9   6   6   セイウンジュリア  牝2  54  池添謙一  1:52.6     クビ   16.4   4    470(0)   \n",
       "\n",
       "        調教師  \n",
       "0  [東] 木村哲也  \n",
       "1  [東] 手塚貴久  \n",
       "2  [東] 藤沢和雄  \n",
       "3   [東] 高木登  \n",
       "4  [西] 矢作芳人  \n",
       "5  [東] 金成貴史  \n",
       "6  [東] 中野栄治  \n",
       "7  [東] 高柳瑞樹  \n",
       "8  [西] 浅見秀一  "
      ]
     },
     "execution_count": 2,
     "metadata": {},
     "output_type": "execute_result"
    }
   ],
   "source": [
    "url = 'https://db.netkeiba.com/race/201901010101'\n",
    "pd.read_html(url)[0]"
   ]
  },
  {
   "cell_type": "markdown",
   "id": "2b874ab8",
   "metadata": {},
   "source": [
    "## 関数定義"
   ]
  },
  {
   "cell_type": "code",
   "execution_count": 350,
   "id": "67608412-1f4e-4ccb-8774-40e8d90a9510",
   "metadata": {},
   "outputs": [],
   "source": [
    "#pickleデータの読み込み\n",
    "#results = pd.read_pickle('results.pickle')\n",
    "results2 = pd.read_pickle('results_addinfo.pickle')\n",
    "#データの分別\n",
    "def preprocessing(results):\n",
    "    df = results.copy()\n",
    "\n",
    "    # 着順に数字以外の文字列が含まれているものを取り除く\n",
    "    df = df[~(df[\"着順\"].astype(str).str.contains(\"\\D\"))]\n",
    "    df[\"着順\"] = df[\"着順\"].astype(int)\n",
    "\n",
    "    # 性齢を性と年齢に分ける\n",
    "    df[\"性\"] = df[\"性齢\"].map(lambda x: str(x)[0])\n",
    "    df[\"年齢\"] = df[\"性齢\"].map(lambda x: str(x)[1:]).astype(int)\n",
    "\n",
    "    # 馬体重を体重と体重変化に分ける\n",
    "    df[\"体重\"] = df[\"馬体重\"].str.split(\"(\", expand=True)[0].astype(int)\n",
    "    df[\"体重変化\"] = df[\"馬体重\"].str.split(\"(\", expand=True)[1].str[:-1].astype(int)\n",
    "\n",
    "    # データをint, floatに変換\n",
    "    df[\"単勝\"] = df[\"単勝\"].astype(float)\n",
    "    df[\"course_len\"] = df[\"course_len\"].astype(int)\n",
    "\n",
    "    # 不要な列を削除\n",
    "    df.drop([\"タイム\", \"着差\", \"調教師\", \"性齢\", \"馬体重\"], axis=1, inplace=True)\n",
    "\n",
    "    #新しい規格\n",
    "    df['date'] = pd.to_datetime(df['date'],format='%Y年%m月%d日')\n",
    "\n",
    "    return df\n",
    "\n",
    "#ダミーデータの生成\n",
    "def split_data(df,test_size=0.3):\n",
    "    sorted_id_list = df.sort_values('date').index.unique()\n",
    "    train_id_list = sorted_id_list[:round(len(sorted_id_list)*(1-test_size))]\n",
    "    test_id_list = sorted_id_list[round(len(sorted_id_list)*(1-test_size)):]\n",
    "    train = df.loc[train_id_list]\n",
    "    test = df.loc[test_id_list]\n",
    "    return train,test"
   ]
  },
  {
   "cell_type": "markdown",
   "id": "16ecd453",
   "metadata": {},
   "source": [
    "## results2に移行"
   ]
  },
  {
   "cell_type": "code",
   "execution_count": 46,
   "id": "7eda29dc-0fda-4a12-a479-a806f3b068e9",
   "metadata": {},
   "outputs": [
    {
     "data": {
      "text/html": [
       "<div>\n",
       "<style scoped>\n",
       "    .dataframe tbody tr th:only-of-type {\n",
       "        vertical-align: middle;\n",
       "    }\n",
       "\n",
       "    .dataframe tbody tr th {\n",
       "        vertical-align: top;\n",
       "    }\n",
       "\n",
       "    .dataframe thead th {\n",
       "        text-align: right;\n",
       "    }\n",
       "</style>\n",
       "<table border=\"1\" class=\"dataframe\">\n",
       "  <thead>\n",
       "    <tr style=\"text-align: right;\">\n",
       "      <th></th>\n",
       "      <th>着順</th>\n",
       "      <th>枠番</th>\n",
       "      <th>馬番</th>\n",
       "      <th>馬名</th>\n",
       "      <th>斤量</th>\n",
       "      <th>騎手</th>\n",
       "      <th>単勝</th>\n",
       "      <th>人気</th>\n",
       "      <th>性</th>\n",
       "      <th>年齢</th>\n",
       "      <th>体重</th>\n",
       "      <th>体重変化</th>\n",
       "    </tr>\n",
       "  </thead>\n",
       "  <tbody>\n",
       "    <tr>\n",
       "      <th>201901010101</th>\n",
       "      <td>1</td>\n",
       "      <td>1</td>\n",
       "      <td>1</td>\n",
       "      <td>ゴルコンダ</td>\n",
       "      <td>54.0</td>\n",
       "      <td>ルメール</td>\n",
       "      <td>1.4</td>\n",
       "      <td>1.0</td>\n",
       "      <td>牡</td>\n",
       "      <td>2</td>\n",
       "      <td>518</td>\n",
       "      <td>-16</td>\n",
       "    </tr>\n",
       "    <tr>\n",
       "      <th>201901010101</th>\n",
       "      <td>2</td>\n",
       "      <td>3</td>\n",
       "      <td>3</td>\n",
       "      <td>プントファイヤー</td>\n",
       "      <td>54.0</td>\n",
       "      <td>岩田康誠</td>\n",
       "      <td>3.5</td>\n",
       "      <td>2.0</td>\n",
       "      <td>牡</td>\n",
       "      <td>2</td>\n",
       "      <td>496</td>\n",
       "      <td>-8</td>\n",
       "    </tr>\n",
       "    <tr>\n",
       "      <th>201901010101</th>\n",
       "      <td>3</td>\n",
       "      <td>4</td>\n",
       "      <td>4</td>\n",
       "      <td>ラグリマスネグラス</td>\n",
       "      <td>51.0</td>\n",
       "      <td>団野大成</td>\n",
       "      <td>46.6</td>\n",
       "      <td>6.0</td>\n",
       "      <td>牡</td>\n",
       "      <td>2</td>\n",
       "      <td>546</td>\n",
       "      <td>6</td>\n",
       "    </tr>\n",
       "    <tr>\n",
       "      <th>201901010101</th>\n",
       "      <td>4</td>\n",
       "      <td>8</td>\n",
       "      <td>9</td>\n",
       "      <td>キタノコドウ</td>\n",
       "      <td>51.0</td>\n",
       "      <td>菅原明良</td>\n",
       "      <td>56.8</td>\n",
       "      <td>7.0</td>\n",
       "      <td>牡</td>\n",
       "      <td>2</td>\n",
       "      <td>458</td>\n",
       "      <td>-8</td>\n",
       "    </tr>\n",
       "    <tr>\n",
       "      <th>201901010101</th>\n",
       "      <td>5</td>\n",
       "      <td>5</td>\n",
       "      <td>5</td>\n",
       "      <td>ネモフィラブルー</td>\n",
       "      <td>54.0</td>\n",
       "      <td>川島信二</td>\n",
       "      <td>140.3</td>\n",
       "      <td>9.0</td>\n",
       "      <td>牡</td>\n",
       "      <td>2</td>\n",
       "      <td>436</td>\n",
       "      <td>0</td>\n",
       "    </tr>\n",
       "    <tr>\n",
       "      <th>...</th>\n",
       "      <td>...</td>\n",
       "      <td>...</td>\n",
       "      <td>...</td>\n",
       "      <td>...</td>\n",
       "      <td>...</td>\n",
       "      <td>...</td>\n",
       "      <td>...</td>\n",
       "      <td>...</td>\n",
       "      <td>...</td>\n",
       "      <td>...</td>\n",
       "      <td>...</td>\n",
       "      <td>...</td>\n",
       "    </tr>\n",
       "    <tr>\n",
       "      <th>201910021212</th>\n",
       "      <td>12</td>\n",
       "      <td>6</td>\n",
       "      <td>11</td>\n",
       "      <td>スリープレッピー</td>\n",
       "      <td>56.0</td>\n",
       "      <td>森裕太朗</td>\n",
       "      <td>120.3</td>\n",
       "      <td>15.0</td>\n",
       "      <td>セ</td>\n",
       "      <td>6</td>\n",
       "      <td>458</td>\n",
       "      <td>8</td>\n",
       "    </tr>\n",
       "    <tr>\n",
       "      <th>201910021212</th>\n",
       "      <td>13</td>\n",
       "      <td>1</td>\n",
       "      <td>1</td>\n",
       "      <td>バリオラージュ</td>\n",
       "      <td>54.0</td>\n",
       "      <td>斎藤新</td>\n",
       "      <td>7.5</td>\n",
       "      <td>4.0</td>\n",
       "      <td>牡</td>\n",
       "      <td>5</td>\n",
       "      <td>460</td>\n",
       "      <td>2</td>\n",
       "    </tr>\n",
       "    <tr>\n",
       "      <th>201910021212</th>\n",
       "      <td>14</td>\n",
       "      <td>2</td>\n",
       "      <td>3</td>\n",
       "      <td>サンライズアミーゴ</td>\n",
       "      <td>54.0</td>\n",
       "      <td>亀田温心</td>\n",
       "      <td>99.2</td>\n",
       "      <td>12.0</td>\n",
       "      <td>牡</td>\n",
       "      <td>4</td>\n",
       "      <td>478</td>\n",
       "      <td>14</td>\n",
       "    </tr>\n",
       "    <tr>\n",
       "      <th>201910021212</th>\n",
       "      <td>15</td>\n",
       "      <td>6</td>\n",
       "      <td>12</td>\n",
       "      <td>トロハ</td>\n",
       "      <td>52.0</td>\n",
       "      <td>武豊</td>\n",
       "      <td>17.5</td>\n",
       "      <td>8.0</td>\n",
       "      <td>牝</td>\n",
       "      <td>3</td>\n",
       "      <td>468</td>\n",
       "      <td>2</td>\n",
       "    </tr>\n",
       "    <tr>\n",
       "      <th>201910021212</th>\n",
       "      <td>16</td>\n",
       "      <td>2</td>\n",
       "      <td>4</td>\n",
       "      <td>ダイシンステルラ</td>\n",
       "      <td>55.0</td>\n",
       "      <td>川須栄彦</td>\n",
       "      <td>110.3</td>\n",
       "      <td>14.0</td>\n",
       "      <td>牝</td>\n",
       "      <td>4</td>\n",
       "      <td>450</td>\n",
       "      <td>8</td>\n",
       "    </tr>\n",
       "  </tbody>\n",
       "</table>\n",
       "<p>47118 rows × 12 columns</p>\n",
       "</div>"
      ],
      "text/plain": [
       "              着順  枠番  馬番         馬名    斤量    騎手     単勝    人気  性  年齢   体重  体重変化\n",
       "201901010101   1   1   1      ゴルコンダ  54.0  ルメール    1.4   1.0  牡   2  518   -16\n",
       "201901010101   2   3   3   プントファイヤー  54.0  岩田康誠    3.5   2.0  牡   2  496    -8\n",
       "201901010101   3   4   4  ラグリマスネグラス  51.0  団野大成   46.6   6.0  牡   2  546     6\n",
       "201901010101   4   8   9     キタノコドウ  51.0  菅原明良   56.8   7.0  牡   2  458    -8\n",
       "201901010101   5   5   5   ネモフィラブルー  54.0  川島信二  140.3   9.0  牡   2  436     0\n",
       "...           ..  ..  ..        ...   ...   ...    ...   ... ..  ..  ...   ...\n",
       "201910021212  12   6  11   スリープレッピー  56.0  森裕太朗  120.3  15.0  セ   6  458     8\n",
       "201910021212  13   1   1    バリオラージュ  54.0   斎藤新    7.5   4.0  牡   5  460     2\n",
       "201910021212  14   2   3  サンライズアミーゴ  54.0  亀田温心   99.2  12.0  牡   4  478    14\n",
       "201910021212  15   6  12        トロハ  52.0    武豊   17.5   8.0  牝   3  468     2\n",
       "201910021212  16   2   4   ダイシンステルラ  55.0  川須栄彦  110.3  14.0  牝   4  450     8\n",
       "\n",
       "[47118 rows x 12 columns]"
      ]
     },
     "execution_count": 46,
     "metadata": {},
     "output_type": "execute_result"
    }
   ],
   "source": [
    "results = preprocessing(results)\n",
    "results"
   ]
  },
  {
   "cell_type": "code",
   "execution_count": 166,
   "id": "d87e7fd4",
   "metadata": {},
   "outputs": [
    {
     "name": "stdout",
     "output_type": "stream",
     "text": [
      "<class 'pandas.core.frame.DataFrame'>\n",
      "Index: 47574 entries, 201901010101 to 201910021212\n",
      "Data columns (total 13 columns):\n",
      " #   Column  Non-Null Count  Dtype  \n",
      "---  ------  --------------  -----  \n",
      " 0   着順      47574 non-null  object \n",
      " 1   枠番      47574 non-null  int64  \n",
      " 2   馬番      47574 non-null  int64  \n",
      " 3   馬名      47574 non-null  object \n",
      " 4   性齢      47574 non-null  object \n",
      " 5   斤量      47574 non-null  float64\n",
      " 6   騎手      47574 non-null  object \n",
      " 7   タイム     47122 non-null  object \n",
      " 8   着差      43668 non-null  object \n",
      " 9   単勝      47574 non-null  object \n",
      " 10  人気      47345 non-null  float64\n",
      " 11  馬体重     47574 non-null  object \n",
      " 12  調教師     47574 non-null  object \n",
      "dtypes: float64(2), int64(2), object(9)\n",
      "memory usage: 5.1+ MB\n"
     ]
    }
   ],
   "source": [
    "#各データの種類\n",
    "results.info()"
   ]
  },
  {
   "cell_type": "code",
   "execution_count": 48,
   "id": "1084c809-80e8-4e18-aa71-a90ce360aae9",
   "metadata": {},
   "outputs": [
    {
     "data": {
      "text/html": [
       "<div>\n",
       "<style scoped>\n",
       "    .dataframe tbody tr th:only-of-type {\n",
       "        vertical-align: middle;\n",
       "    }\n",
       "\n",
       "    .dataframe tbody tr th {\n",
       "        vertical-align: top;\n",
       "    }\n",
       "\n",
       "    .dataframe thead th {\n",
       "        text-align: right;\n",
       "    }\n",
       "</style>\n",
       "<table border=\"1\" class=\"dataframe\">\n",
       "  <thead>\n",
       "    <tr style=\"text-align: right;\">\n",
       "      <th></th>\n",
       "      <th>枠番</th>\n",
       "      <th>馬番</th>\n",
       "      <th>斤量</th>\n",
       "      <th>単勝</th>\n",
       "      <th>人気</th>\n",
       "      <th>年齢</th>\n",
       "      <th>体重</th>\n",
       "      <th>体重変化</th>\n",
       "      <th>rank</th>\n",
       "      <th>騎手_アヴドゥ</th>\n",
       "      <th>...</th>\n",
       "      <th>騎手_高田潤</th>\n",
       "      <th>騎手_高野和馬</th>\n",
       "      <th>騎手_鮫島克駿</th>\n",
       "      <th>騎手_鮫島良太</th>\n",
       "      <th>騎手_黒岩悠</th>\n",
       "      <th>騎手_黛弘人</th>\n",
       "      <th>騎手_Ｍ．デム</th>\n",
       "      <th>性_セ</th>\n",
       "      <th>性_牝</th>\n",
       "      <th>性_牡</th>\n",
       "    </tr>\n",
       "  </thead>\n",
       "  <tbody>\n",
       "    <tr>\n",
       "      <th>201901010101</th>\n",
       "      <td>1</td>\n",
       "      <td>1</td>\n",
       "      <td>54.0</td>\n",
       "      <td>1.4</td>\n",
       "      <td>1.0</td>\n",
       "      <td>2</td>\n",
       "      <td>518</td>\n",
       "      <td>-16</td>\n",
       "      <td>1</td>\n",
       "      <td>0</td>\n",
       "      <td>...</td>\n",
       "      <td>0</td>\n",
       "      <td>0</td>\n",
       "      <td>0</td>\n",
       "      <td>0</td>\n",
       "      <td>0</td>\n",
       "      <td>0</td>\n",
       "      <td>0</td>\n",
       "      <td>0</td>\n",
       "      <td>0</td>\n",
       "      <td>1</td>\n",
       "    </tr>\n",
       "    <tr>\n",
       "      <th>201901010101</th>\n",
       "      <td>3</td>\n",
       "      <td>3</td>\n",
       "      <td>54.0</td>\n",
       "      <td>3.5</td>\n",
       "      <td>2.0</td>\n",
       "      <td>2</td>\n",
       "      <td>496</td>\n",
       "      <td>-8</td>\n",
       "      <td>2</td>\n",
       "      <td>0</td>\n",
       "      <td>...</td>\n",
       "      <td>0</td>\n",
       "      <td>0</td>\n",
       "      <td>0</td>\n",
       "      <td>0</td>\n",
       "      <td>0</td>\n",
       "      <td>0</td>\n",
       "      <td>0</td>\n",
       "      <td>0</td>\n",
       "      <td>0</td>\n",
       "      <td>1</td>\n",
       "    </tr>\n",
       "    <tr>\n",
       "      <th>201901010101</th>\n",
       "      <td>4</td>\n",
       "      <td>4</td>\n",
       "      <td>51.0</td>\n",
       "      <td>46.6</td>\n",
       "      <td>6.0</td>\n",
       "      <td>2</td>\n",
       "      <td>546</td>\n",
       "      <td>6</td>\n",
       "      <td>3</td>\n",
       "      <td>0</td>\n",
       "      <td>...</td>\n",
       "      <td>0</td>\n",
       "      <td>0</td>\n",
       "      <td>0</td>\n",
       "      <td>0</td>\n",
       "      <td>0</td>\n",
       "      <td>0</td>\n",
       "      <td>0</td>\n",
       "      <td>0</td>\n",
       "      <td>0</td>\n",
       "      <td>1</td>\n",
       "    </tr>\n",
       "    <tr>\n",
       "      <th>201901010101</th>\n",
       "      <td>8</td>\n",
       "      <td>9</td>\n",
       "      <td>51.0</td>\n",
       "      <td>56.8</td>\n",
       "      <td>7.0</td>\n",
       "      <td>2</td>\n",
       "      <td>458</td>\n",
       "      <td>-8</td>\n",
       "      <td>4</td>\n",
       "      <td>0</td>\n",
       "      <td>...</td>\n",
       "      <td>0</td>\n",
       "      <td>0</td>\n",
       "      <td>0</td>\n",
       "      <td>0</td>\n",
       "      <td>0</td>\n",
       "      <td>0</td>\n",
       "      <td>0</td>\n",
       "      <td>0</td>\n",
       "      <td>0</td>\n",
       "      <td>1</td>\n",
       "    </tr>\n",
       "    <tr>\n",
       "      <th>201901010101</th>\n",
       "      <td>5</td>\n",
       "      <td>5</td>\n",
       "      <td>54.0</td>\n",
       "      <td>140.3</td>\n",
       "      <td>9.0</td>\n",
       "      <td>2</td>\n",
       "      <td>436</td>\n",
       "      <td>0</td>\n",
       "      <td>4</td>\n",
       "      <td>0</td>\n",
       "      <td>...</td>\n",
       "      <td>0</td>\n",
       "      <td>0</td>\n",
       "      <td>0</td>\n",
       "      <td>0</td>\n",
       "      <td>0</td>\n",
       "      <td>0</td>\n",
       "      <td>0</td>\n",
       "      <td>0</td>\n",
       "      <td>0</td>\n",
       "      <td>1</td>\n",
       "    </tr>\n",
       "    <tr>\n",
       "      <th>...</th>\n",
       "      <td>...</td>\n",
       "      <td>...</td>\n",
       "      <td>...</td>\n",
       "      <td>...</td>\n",
       "      <td>...</td>\n",
       "      <td>...</td>\n",
       "      <td>...</td>\n",
       "      <td>...</td>\n",
       "      <td>...</td>\n",
       "      <td>...</td>\n",
       "      <td>...</td>\n",
       "      <td>...</td>\n",
       "      <td>...</td>\n",
       "      <td>...</td>\n",
       "      <td>...</td>\n",
       "      <td>...</td>\n",
       "      <td>...</td>\n",
       "      <td>...</td>\n",
       "      <td>...</td>\n",
       "      <td>...</td>\n",
       "      <td>...</td>\n",
       "    </tr>\n",
       "    <tr>\n",
       "      <th>201910021212</th>\n",
       "      <td>6</td>\n",
       "      <td>11</td>\n",
       "      <td>56.0</td>\n",
       "      <td>120.3</td>\n",
       "      <td>15.0</td>\n",
       "      <td>6</td>\n",
       "      <td>458</td>\n",
       "      <td>8</td>\n",
       "      <td>4</td>\n",
       "      <td>0</td>\n",
       "      <td>...</td>\n",
       "      <td>0</td>\n",
       "      <td>0</td>\n",
       "      <td>0</td>\n",
       "      <td>0</td>\n",
       "      <td>0</td>\n",
       "      <td>0</td>\n",
       "      <td>0</td>\n",
       "      <td>1</td>\n",
       "      <td>0</td>\n",
       "      <td>0</td>\n",
       "    </tr>\n",
       "    <tr>\n",
       "      <th>201910021212</th>\n",
       "      <td>1</td>\n",
       "      <td>1</td>\n",
       "      <td>54.0</td>\n",
       "      <td>7.5</td>\n",
       "      <td>4.0</td>\n",
       "      <td>5</td>\n",
       "      <td>460</td>\n",
       "      <td>2</td>\n",
       "      <td>4</td>\n",
       "      <td>0</td>\n",
       "      <td>...</td>\n",
       "      <td>0</td>\n",
       "      <td>0</td>\n",
       "      <td>0</td>\n",
       "      <td>0</td>\n",
       "      <td>0</td>\n",
       "      <td>0</td>\n",
       "      <td>0</td>\n",
       "      <td>0</td>\n",
       "      <td>0</td>\n",
       "      <td>1</td>\n",
       "    </tr>\n",
       "    <tr>\n",
       "      <th>201910021212</th>\n",
       "      <td>2</td>\n",
       "      <td>3</td>\n",
       "      <td>54.0</td>\n",
       "      <td>99.2</td>\n",
       "      <td>12.0</td>\n",
       "      <td>4</td>\n",
       "      <td>478</td>\n",
       "      <td>14</td>\n",
       "      <td>4</td>\n",
       "      <td>0</td>\n",
       "      <td>...</td>\n",
       "      <td>0</td>\n",
       "      <td>0</td>\n",
       "      <td>0</td>\n",
       "      <td>0</td>\n",
       "      <td>0</td>\n",
       "      <td>0</td>\n",
       "      <td>0</td>\n",
       "      <td>0</td>\n",
       "      <td>0</td>\n",
       "      <td>1</td>\n",
       "    </tr>\n",
       "    <tr>\n",
       "      <th>201910021212</th>\n",
       "      <td>6</td>\n",
       "      <td>12</td>\n",
       "      <td>52.0</td>\n",
       "      <td>17.5</td>\n",
       "      <td>8.0</td>\n",
       "      <td>3</td>\n",
       "      <td>468</td>\n",
       "      <td>2</td>\n",
       "      <td>4</td>\n",
       "      <td>0</td>\n",
       "      <td>...</td>\n",
       "      <td>0</td>\n",
       "      <td>0</td>\n",
       "      <td>0</td>\n",
       "      <td>0</td>\n",
       "      <td>0</td>\n",
       "      <td>0</td>\n",
       "      <td>0</td>\n",
       "      <td>0</td>\n",
       "      <td>1</td>\n",
       "      <td>0</td>\n",
       "    </tr>\n",
       "    <tr>\n",
       "      <th>201910021212</th>\n",
       "      <td>2</td>\n",
       "      <td>4</td>\n",
       "      <td>55.0</td>\n",
       "      <td>110.3</td>\n",
       "      <td>14.0</td>\n",
       "      <td>4</td>\n",
       "      <td>450</td>\n",
       "      <td>8</td>\n",
       "      <td>4</td>\n",
       "      <td>0</td>\n",
       "      <td>...</td>\n",
       "      <td>0</td>\n",
       "      <td>0</td>\n",
       "      <td>0</td>\n",
       "      <td>0</td>\n",
       "      <td>0</td>\n",
       "      <td>0</td>\n",
       "      <td>0</td>\n",
       "      <td>0</td>\n",
       "      <td>1</td>\n",
       "      <td>0</td>\n",
       "    </tr>\n",
       "  </tbody>\n",
       "</table>\n",
       "<p>47118 rows × 206 columns</p>\n",
       "</div>"
      ],
      "text/plain": [
       "              枠番  馬番    斤量     単勝    人気  年齢   体重  体重変化  rank  騎手_アヴドゥ  ...  \\\n",
       "201901010101   1   1  54.0    1.4   1.0   2  518   -16     1        0  ...   \n",
       "201901010101   3   3  54.0    3.5   2.0   2  496    -8     2        0  ...   \n",
       "201901010101   4   4  51.0   46.6   6.0   2  546     6     3        0  ...   \n",
       "201901010101   8   9  51.0   56.8   7.0   2  458    -8     4        0  ...   \n",
       "201901010101   5   5  54.0  140.3   9.0   2  436     0     4        0  ...   \n",
       "...           ..  ..   ...    ...   ...  ..  ...   ...   ...      ...  ...   \n",
       "201910021212   6  11  56.0  120.3  15.0   6  458     8     4        0  ...   \n",
       "201910021212   1   1  54.0    7.5   4.0   5  460     2     4        0  ...   \n",
       "201910021212   2   3  54.0   99.2  12.0   4  478    14     4        0  ...   \n",
       "201910021212   6  12  52.0   17.5   8.0   3  468     2     4        0  ...   \n",
       "201910021212   2   4  55.0  110.3  14.0   4  450     8     4        0  ...   \n",
       "\n",
       "              騎手_高田潤  騎手_高野和馬  騎手_鮫島克駿  騎手_鮫島良太  騎手_黒岩悠  騎手_黛弘人  騎手_Ｍ．デム  性_セ  \\\n",
       "201901010101       0        0        0        0       0       0        0    0   \n",
       "201901010101       0        0        0        0       0       0        0    0   \n",
       "201901010101       0        0        0        0       0       0        0    0   \n",
       "201901010101       0        0        0        0       0       0        0    0   \n",
       "201901010101       0        0        0        0       0       0        0    0   \n",
       "...              ...      ...      ...      ...     ...     ...      ...  ...   \n",
       "201910021212       0        0        0        0       0       0        0    1   \n",
       "201910021212       0        0        0        0       0       0        0    0   \n",
       "201910021212       0        0        0        0       0       0        0    0   \n",
       "201910021212       0        0        0        0       0       0        0    0   \n",
       "201910021212       0        0        0        0       0       0        0    0   \n",
       "\n",
       "              性_牝  性_牡  \n",
       "201901010101    0    1  \n",
       "201901010101    0    1  \n",
       "201901010101    0    1  \n",
       "201901010101    0    1  \n",
       "201901010101    0    1  \n",
       "...           ...  ...  \n",
       "201910021212    0    0  \n",
       "201910021212    0    1  \n",
       "201910021212    0    1  \n",
       "201910021212    1    0  \n",
       "201910021212    1    0  \n",
       "\n",
       "[47118 rows x 206 columns]"
      ]
     },
     "execution_count": 48,
     "metadata": {},
     "output_type": "execute_result"
    }
   ],
   "source": [
    "#4着以下を全て4にする\n",
    "clip_rank = lambda x: x if x < 4 else 4\n",
    "#動画中のresultsは、preprocessing関数で前処理が行われた後のデータ\n",
    "results[\"rank\"] = results[\"着順\"].map(clip_rank)\n",
    "results.drop([\"着順\", \"馬名\"], axis=1, inplace=True)\n",
    "\n",
    "#カテゴリ変数をダミー変数化\n",
    "results_d = pd.get_dummies(results)\n",
    "results_d"
   ]
  },
  {
   "cell_type": "code",
   "execution_count": 53,
   "id": "23c970bb-7016-4670-adcd-d615d53b0061",
   "metadata": {},
   "outputs": [
    {
     "data": {
      "text/plain": [
       "1    2420\n",
       "4    2420\n",
       "3    2417\n",
       "2    2414\n",
       "dtype: int64"
      ]
     },
     "execution_count": 53,
     "metadata": {},
     "output_type": "execute_result"
    }
   ],
   "source": [
    "#訓練データとテストデータに分ける\n",
    "from sklearn.model_selection import train_test_split\n",
    "\n",
    "X = results_d.drop([\"rank\"], axis=1)\n",
    "y = results_d[\"rank\"]\n",
    "X_train, X_test, y_train, y_test = train_test_split(\n",
    "    X, y, stratify=y, test_size=0.3, random_state=0\n",
    ")\n",
    "\n",
    "#アンダーサンプリング\n",
    "from imblearn.under_sampling import RandomUnderSampler\n",
    "\n",
    "rank_1 = y_train.value_counts()[1]\n",
    "rank_2 = y_train.value_counts()[2]\n",
    "rank_3 = y_train.value_counts()[3]\n",
    "\n",
    "rus = RandomUnderSampler(\n",
    "    #ratio={1: rank_1, 2: rank_2, 3: rank_3, 4: rank_1},\n",
    "    sampling_strategy={1: rank_1, 2: rank_2, 3: rank_3, 4: rank_1},\n",
    "    random_state=71\n",
    ")\n",
    "\n",
    "#X_train_rus, y_train_rus = rus.fit_sample(X_train.values, y_train.values)\n",
    "X_train_rus, y_train_rus = rus.fit_resample(X_train.values, y_train.values)\n",
    "#データの分布\n",
    "pd.Series(y_train_rus).value_counts()"
   ]
  },
  {
   "cell_type": "code",
   "execution_count": 59,
   "id": "d284949a",
   "metadata": {},
   "outputs": [
    {
     "name": "stdout",
     "output_type": "stream",
     "text": [
      "0.564004608574374 0.5614742501414828\n"
     ]
    },
    {
     "name": "stderr",
     "output_type": "stream",
     "text": [
      "/home/hoshi/.local/share/virtualenvs/keiba-pS9ZwPw7/lib/python3.8/site-packages/sklearn/linear_model/_logistic.py:814: ConvergenceWarning: lbfgs failed to converge (status=1):\n",
      "STOP: TOTAL NO. of ITERATIONS REACHED LIMIT.\n",
      "\n",
      "Increase the number of iterations (max_iter) or scale the data as shown in:\n",
      "    https://scikit-learn.org/stable/modules/preprocessing.html\n",
      "Please also refer to the documentation for alternative solver options:\n",
      "    https://scikit-learn.org/stable/modules/linear_model.html#logistic-regression\n",
      "  n_iter_i = _check_optimize_result(\n",
      "/home/hoshi/.local/share/virtualenvs/keiba-pS9ZwPw7/lib/python3.8/site-packages/sklearn/base.py:443: UserWarning: X has feature names, but LogisticRegression was fitted without feature names\n",
      "  warnings.warn(\n",
      "/home/hoshi/.local/share/virtualenvs/keiba-pS9ZwPw7/lib/python3.8/site-packages/sklearn/base.py:443: UserWarning: X has feature names, but LogisticRegression was fitted without feature names\n",
      "  warnings.warn(\n"
     ]
    }
   ],
   "source": [
    "#訓練\n",
    "from sklearn.linear_model import LogisticRegression\n",
    "\n",
    "model = LogisticRegression()\n",
    "model.fit(X_train_rus, y_train_rus)\n",
    "\n",
    "#スコアを表示\n",
    "print(model.score(X_train, y_train), model.score(X_test, y_test))\n"
   ]
  },
  {
   "cell_type": "code",
   "execution_count": 55,
   "id": "d25ae06b",
   "metadata": {},
   "outputs": [
    {
     "data": {
      "text/plain": [
       "4    7507\n",
       "1    3524\n",
       "3    1689\n",
       "2    1416\n",
       "dtype: int64"
      ]
     },
     "execution_count": 55,
     "metadata": {},
     "output_type": "execute_result"
    }
   ],
   "source": [
    "#予想パターン\n",
    "pd.Series(y_pred).value_counts()"
   ]
  },
  {
   "cell_type": "code",
   "execution_count": 56,
   "id": "e42e19ba",
   "metadata": {},
   "outputs": [
    {
     "name": "stderr",
     "output_type": "stream",
     "text": [
      "/home/hoshi/.local/share/virtualenvs/keiba-pS9ZwPw7/lib/python3.8/site-packages/sklearn/base.py:443: UserWarning: X has feature names, but LogisticRegression was fitted without feature names\n",
      "  warnings.warn(\n"
     ]
    },
    {
     "data": {
      "text/plain": [
       "4    1754\n",
       "1     684\n",
       "2     612\n",
       "3     474\n",
       "Name: actual, dtype: int64"
      ]
     },
     "execution_count": 56,
     "metadata": {},
     "output_type": "execute_result"
    }
   ],
   "source": [
    "#一着と予想したうちの予測結果を確認\n",
    "y_pred = model.predict(X_test)\n",
    "pred_df = pd.DataFrame({\"pred\": y_pred, \"actual\": y_test})\n",
    "pred_df[pred_df[\"pred\"] == 1][\"actual\"].value_counts()"
   ]
  },
  {
   "cell_type": "code",
   "execution_count": 64,
   "id": "dace3b75",
   "metadata": {},
   "outputs": [
    {
     "data": {
      "text/plain": [
       "枠番     -0.003471\n",
       "馬番      0.002468\n",
       "斤量      0.004374\n",
       "単勝     -0.008761\n",
       "人気     -0.104455\n",
       "年齢     -0.021528\n",
       "体重      0.001070\n",
       "体重変化   -0.000820\n",
       "dtype: float64"
      ]
     },
     "execution_count": 64,
     "metadata": {},
     "output_type": "execute_result"
    }
   ],
   "source": [
    "#回帰係数の確認\n",
    "coefs = pd.Series(model.coef_[0], index=X.columns).sort_values()\n",
    "coefs[[\"枠番\", \"馬番\", \"斤量\", \"単勝\", \"人気\", \"年齢\", \"体重\", \"体重変化\"]]"
   ]
  },
  {
   "cell_type": "markdown",
   "id": "d71bb2fb",
   "metadata": {},
   "source": [
    "## 2.ランダムフォレスト"
   ]
  },
  {
   "cell_type": "code",
   "execution_count": 92,
   "id": "c41816ee",
   "metadata": {},
   "outputs": [],
   "source": [
    "#時系列を正す\n",
    "import requests\n",
    "from bs4 import BeautifulSoup\n",
    "\n",
    "race_id = \"201901010101\"\n",
    "url = \"https://db.netkeiba.com/race/\" + race_id\n",
    "html = requests.get(url)\n",
    "html.encoding = \"EUC-JP\"\n",
    "soup =BeautifulSoup(html.text,\"html.parser\")"
   ]
  },
  {
   "cell_type": "code",
   "execution_count": 95,
   "id": "44e4f0c0",
   "metadata": {},
   "outputs": [
    {
     "data": {
      "text/plain": [
       "['芝右1800m', '天候', '曇', '芝', '良', '発走', '09', '50']"
      ]
     },
     "execution_count": 95,
     "metadata": {},
     "output_type": "execute_result"
    }
   ],
   "source": [
    "text = soup.find(\"div\",attrs = {'class':'data_intro'}).find_all('p')[0].text\n",
    "\n",
    "#正規表現の取り出し\n",
    "import re\n",
    "re.findall(r'\\w+',text)"
   ]
  },
  {
   "cell_type": "code",
   "execution_count": 129,
   "id": "74307fa6",
   "metadata": {},
   "outputs": [],
   "source": [
    "#スクレイピングする対象\n",
    "race_id_list = results.index.unique()"
   ]
  },
  {
   "cell_type": "code",
   "execution_count": 130,
   "id": "44283df8",
   "metadata": {},
   "outputs": [],
   "source": [
    "#レース条件のデータ取り出し関数\n",
    "def scrape_race_info(race_id_list):\n",
    "    race_infos={}\n",
    "\n",
    "    for race_id in tqdm(race_id_list):\n",
    "        try:\n",
    "            url = 'https://db.netkeiba.com/race/' + race_id\n",
    "            html = requests.get(url)\n",
    "            html.encoding = 'EUC-JP'\n",
    "            soup = BeautifulSoup(html.text,'html.parser')\n",
    "\n",
    "            texts = soup.find(\"div\",attrs = {'class':'data_intro'}).find_all('p')[0].text + \\\n",
    "                soup.find(\"div\",attrs = {'class':'data_intro'}).find_all('p')[1].text\n",
    "            info = re.findall(r\"\\w+\",texts)\n",
    "            info_dict = {}\n",
    "            for text in info:\n",
    "                if text in ['芝','ダート']:\n",
    "                    info_dict['race_type'] = text\n",
    "                if '障' in text:\n",
    "                    info_dict['race_type'] = '障害'\n",
    "                if 'm' in text:\n",
    "                    info_dict['course_len'] = int(re.findall(r'\\d+',text)[0])\n",
    "                if text in ['良','稍重','重','不良']:\n",
    "                    info_dict['ground_state'] = text\n",
    "                if text in ['曇','晴','雨','小雨','小雪','雪']:\n",
    "                    info_dict['weather'] = text\n",
    "                if '年' in text:\n",
    "                    info_dict['date'] = text\n",
    "\n",
    "            race_infos[race_id] = info_dict\n",
    "            time.sleep(1)\n",
    "        except IndexError:\n",
    "            continue\n",
    "        except:\n",
    "            break\n",
    "    return race_infos\n"
   ]
  },
  {
   "cell_type": "code",
   "execution_count": 647,
   "id": "1d0d157d",
   "metadata": {},
   "outputs": [
    {
     "data": {
      "application/vnd.jupyter.widget-view+json": {
       "model_id": "7fc32f55cadf443088741c855481cc6f",
       "version_major": 2,
       "version_minor": 0
      },
      "text/plain": [
       "  0%|          | 0/7200 [00:00<?, ?it/s]"
      ]
     },
     "metadata": {},
     "output_type": "display_data"
    }
   ],
   "source": [
    "#スクレイピング\n",
    "race_infos = scrape_race_info(race_id_list)"
   ]
  },
  {
   "cell_type": "code",
   "execution_count": 146,
   "id": "d519427f",
   "metadata": {},
   "outputs": [],
   "source": [
    "#書き込みtest\n",
    "race_infos_test2 = pd.read_pickle('results_test.pickle')"
   ]
  },
  {
   "cell_type": "code",
   "execution_count": 167,
   "id": "46b31943",
   "metadata": {},
   "outputs": [],
   "source": [
    "#データの結合\n",
    "results_addinfo = results.merge(race_infos_test,left_index=True,right_index=True,how='inner')"
   ]
  },
  {
   "cell_type": "markdown",
   "id": "9713f1ac",
   "metadata": {},
   "source": [
    "## ここまでのデータはたぶん必要ない"
   ]
  },
  {
   "cell_type": "code",
   "execution_count": 288,
   "id": "4f5ad98e",
   "metadata": {},
   "outputs": [],
   "source": [
    "#結合データの書き込み\n",
    "#results_addinfo\n",
    "#results_addinfo = pd.concat([test3[key] for key in test3], sort=False) \n",
    "results_addinfo.to_pickle('results_addinfo.pickle')"
   ]
  },
  {
   "cell_type": "markdown",
   "id": "9c40144b",
   "metadata": {},
   "source": [
    "## ここからデータ読み込み"
   ]
  },
  {
   "cell_type": "code",
   "execution_count": 338,
   "id": "22f0799a",
   "metadata": {},
   "outputs": [],
   "source": [
    "#記録チェック\n",
    "#results2 = pd.read_pickle('results_addinfo.pickle')\n",
    "#results2\n",
    "results2 = preprocessing(results_addinfo)"
   ]
  },
  {
   "cell_type": "code",
   "execution_count": 339,
   "id": "29677fb1",
   "metadata": {},
   "outputs": [
    {
     "name": "stdout",
     "output_type": "stream",
     "text": [
      "<class 'pandas.core.frame.DataFrame'>\n",
      "Index: 47118 entries, 201901010101 to 201910021212\n",
      "Data columns (total 17 columns):\n",
      " #   Column        Non-Null Count  Dtype         \n",
      "---  ------        --------------  -----         \n",
      " 0   着順            47118 non-null  int64         \n",
      " 1   枠番            47118 non-null  int64         \n",
      " 2   馬番            47118 non-null  int64         \n",
      " 3   馬名            47118 non-null  object        \n",
      " 4   斤量            47118 non-null  float64       \n",
      " 5   騎手            47118 non-null  object        \n",
      " 6   単勝            47118 non-null  float64       \n",
      " 7   人気            47118 non-null  float64       \n",
      " 8   course_len    47118 non-null  int64         \n",
      " 9   weather       47118 non-null  object        \n",
      " 10  race_type     47118 non-null  object        \n",
      " 11  ground_state  47118 non-null  object        \n",
      " 12  date          47118 non-null  datetime64[ns]\n",
      " 13  性             47118 non-null  object        \n",
      " 14  年齢            47118 non-null  int64         \n",
      " 15  体重            47118 non-null  int64         \n",
      " 16  体重変化          47118 non-null  int64         \n",
      "dtypes: datetime64[ns](1), float64(3), int64(7), object(6)\n",
      "memory usage: 6.5+ MB\n"
     ]
    }
   ],
   "source": [
    "results2.info()"
   ]
  },
  {
   "cell_type": "code",
   "execution_count": 351,
   "id": "2793f3c5",
   "metadata": {},
   "outputs": [],
   "source": [
    "#テストデータと訓練データの分割\n",
    "sorted_id_list = results2.sort_values('date').index.unique()\n",
    "round(len(sorted_id_list)*0.7)\n",
    "results_p = results2\n",
    "train_id_list = sorted_id_list[:round(len(sorted_id_list)*0.7)]\n",
    "test_id_list = sorted_id_list[round(len(sorted_id_list)*0.7):]\n",
    "train = results_p.loc[train_id_list]\n",
    "test = results_p.loc[test_id_list]"
   ]
  },
  {
   "cell_type": "code",
   "execution_count": 401,
   "id": "80ad8570",
   "metadata": {},
   "outputs": [
    {
     "data": {
      "text/plain": [
       "0.7030646462073942"
      ]
     },
     "execution_count": 401,
     "metadata": {},
     "output_type": "execute_result"
    }
   ],
   "source": [
    "#データの割合\n",
    "#len(train)\n",
    "#len(test)\n",
    "#len(results_p)\n",
    "len(train)/len(results_p)"
   ]
  },
  {
   "cell_type": "code",
   "execution_count": 342,
   "id": "9103292b",
   "metadata": {},
   "outputs": [],
   "source": [
    "#ダミーデータの生成\n",
    "'''\n",
    "def split_data(df,test_size):\n",
    "    sorted_id_list = df.sort_values('date').index.unique()\n",
    "    train_id_list = sorted_id_list[:round(len(sorted_id_list)*(1-test_size))]\n",
    "    test_id_list = sorted_id_list[round(len(sorted_id_list)*(1-test_size)):]\n",
    "    train = df.loc[train_id_list]\n",
    "    test = df.loc[test_id_list]\n",
    "    return train,test\n",
    "'''"
   ]
  },
  {
   "cell_type": "markdown",
   "id": "6b9aab79",
   "metadata": {},
   "source": []
  },
  {
   "cell_type": "code",
   "execution_count": 343,
   "id": "ab74a89b",
   "metadata": {},
   "outputs": [],
   "source": [
    "train,test = split_data(results_p)"
   ]
  },
  {
   "cell_type": "code",
   "execution_count": 344,
   "id": "2b8e425f",
   "metadata": {},
   "outputs": [],
   "source": [
    "results_p.drop(['馬名'],axis=1,inplace=True)\n",
    "results_d = pd.get_dummies(results_p)\n",
    "results_d['rank'] = results_d['着順'].map(lambda x: x if x < 4 else 4)\n",
    "train,test = split_data(results_d,0.3)"
   ]
  },
  {
   "cell_type": "code",
   "execution_count": 296,
   "id": "975b5a00",
   "metadata": {},
   "outputs": [],
   "source": [
    "from imblearn.under_sampling import RandomUnderSampler\n",
    "#アンダーサンプリング\n",
    "rank_1 = train['rank'].value_counts()[1]\n",
    "rank_2 = train['rank'].value_counts()[2]\n",
    "rank_3 = train['rank'].value_counts()[3]\n",
    "\n",
    "rus = RandomUnderSampler(\n",
    "    #ratio={1: rank_1, 2: rank_2, 3: rank_3, 4: rank_1},#ratioは削除されました\n",
    "    sampling_strategy={1: rank_1, 2: rank_2, 3: rank_3, 4: rank_1},\n",
    "    random_state=71\n",
    ")\n",
    "\n",
    "X_train = train.drop(['着順','date','rank'],axis=1)\n",
    "y_train = train['rank']\n",
    "X_test = test.drop(['着順','date','rank'],axis=1)\n",
    "y_test = test['rank']\n",
    "\n",
    "#X_train_rus,y_train_rus = rus.fit_sample(X_train,y_train)#fit_sampleに問題あり\n",
    "X_train_rus, y_train_rus = rus.fit_resample(X_train, y_train)"
   ]
  },
  {
   "cell_type": "code",
   "execution_count": 297,
   "id": "1aa5372c",
   "metadata": {},
   "outputs": [
    {
     "name": "stdout",
     "output_type": "stream",
     "text": [
      "0.7229148428774111 0.5393467228932886\n"
     ]
    }
   ],
   "source": [
    "#ランダムフォレスト\n",
    "clf = RandomForestClassifier(random_state=0)\n",
    "clf.fit(X_train_rus,y_train_rus)\n",
    "\n",
    "print(clf.score(X_train,y_train),clf.score(X_test,y_test))"
   ]
  },
  {
   "cell_type": "markdown",
   "id": "f62f9e54",
   "metadata": {},
   "source": [
    "## 3.予想モデル"
   ]
  },
  {
   "cell_type": "code",
   "execution_count": 497,
   "id": "eb796c3d",
   "metadata": {},
   "outputs": [],
   "source": [
    "results_addinfo = pd.read_pickle('results_addinfo.pickle')\n",
    "results2 = preprocessing(results_addinfo)"
   ]
  },
  {
   "cell_type": "code",
   "execution_count": 498,
   "id": "cce7671e",
   "metadata": {},
   "outputs": [],
   "source": [
    "#テストデータと訓練データの分割\n",
    "sorted_id_list = results2.sort_values('date').index.unique()\n",
    "round(len(sorted_id_list)*0.7)\n",
    "results_p = results2\n",
    "train_id_list = sorted_id_list[:round(len(sorted_id_list)*0.7)]\n",
    "test_id_list = sorted_id_list[round(len(sorted_id_list)*0.7):]\n",
    "train = results_p.loc[train_id_list]\n",
    "test = results_p.loc[test_id_list]"
   ]
  },
  {
   "cell_type": "code",
   "execution_count": 499,
   "id": "535dad2d",
   "metadata": {},
   "outputs": [],
   "source": [
    "#results_p['rank'] = results_p['着順'].map(lambda x: x if x < 4 else 4)\n",
    "#results_p.drop(['着順'],axis=1,inplace=True)"
   ]
  },
  {
   "cell_type": "code",
   "execution_count": 500,
   "id": "55c5cb19",
   "metadata": {},
   "outputs": [],
   "source": [
    "#results_p['rank'].value_counts()"
   ]
  },
  {
   "cell_type": "code",
   "execution_count": 501,
   "id": "916c03ba",
   "metadata": {},
   "outputs": [
    {
     "data": {
      "text/plain": [
       "0    36759\n",
       "1    10359\n",
       "Name: rank, dtype: int64"
      ]
     },
     "execution_count": 501,
     "metadata": {},
     "output_type": "execute_result"
    }
   ],
   "source": [
    "results_p['rank'] = results_p['着順'].map(lambda x: x if x < 4 else 4)\n",
    "#2回読み込んではいけない\n",
    "results_p['rank'] = results_p['rank'].map(lambda x: 1 if x < 4 else 0)\n",
    "results_p['rank'].value_counts()"
   ]
  },
  {
   "cell_type": "code",
   "execution_count": 502,
   "id": "7204af2d",
   "metadata": {},
   "outputs": [],
   "source": [
    "#train,test = split_data(results_p)\n",
    "#ダミー変数化、二回目は失敗する\n",
    "results_p.drop(['馬名'],axis=1,inplace=True)\n",
    "results_d = pd.get_dummies(results_p)"
   ]
  },
  {
   "cell_type": "code",
   "execution_count": 503,
   "id": "6d7c63b3",
   "metadata": {},
   "outputs": [
    {
     "name": "stdout",
     "output_type": "stream",
     "text": [
      "<class 'pandas.core.frame.DataFrame'>\n",
      "Index: 47118 entries, 201901010101 to 201910021212\n",
      "Data columns (total 17 columns):\n",
      " #   Column        Non-Null Count  Dtype         \n",
      "---  ------        --------------  -----         \n",
      " 0   着順            47118 non-null  int64         \n",
      " 1   枠番            47118 non-null  int64         \n",
      " 2   馬番            47118 non-null  int64         \n",
      " 3   斤量            47118 non-null  float64       \n",
      " 4   騎手            47118 non-null  object        \n",
      " 5   単勝            47118 non-null  float64       \n",
      " 6   人気            47118 non-null  float64       \n",
      " 7   course_len    47118 non-null  int64         \n",
      " 8   weather       47118 non-null  object        \n",
      " 9   race_type     47118 non-null  object        \n",
      " 10  ground_state  47118 non-null  object        \n",
      " 11  date          47118 non-null  datetime64[ns]\n",
      " 12  性             47118 non-null  object        \n",
      " 13  年齢            47118 non-null  int64         \n",
      " 14  体重            47118 non-null  int64         \n",
      " 15  体重変化          47118 non-null  int64         \n",
      " 16  rank          47118 non-null  int64         \n",
      "dtypes: datetime64[ns](1), float64(3), int64(8), object(5)\n",
      "memory usage: 7.5+ MB\n"
     ]
    }
   ],
   "source": [
    "results_p.info()"
   ]
  },
  {
   "cell_type": "code",
   "execution_count": 508,
   "id": "761a4c77",
   "metadata": {},
   "outputs": [],
   "source": [
    "train,test = split_data(results_d)"
   ]
  },
  {
   "cell_type": "code",
   "execution_count": 568,
   "id": "f211cef4",
   "metadata": {},
   "outputs": [],
   "source": [
    "#データの選別\n",
    "x_train = train.drop(['着順','rank','date'],axis=1)\n",
    "y_train = train['rank']\n",
    "x_test = test.drop(['着順','rank','date'],axis=1)\n",
    "y_test = test['rank']"
   ]
  },
  {
   "cell_type": "markdown",
   "id": "33b848a4",
   "metadata": {},
   "source": [
    "## 4.ランダムフォレスト"
   ]
  },
  {
   "cell_type": "code",
   "execution_count": 570,
   "id": "56d8a473",
   "metadata": {},
   "outputs": [
    {
     "data": {
      "text/plain": [
       "RandomForestClassifier(random_state=100)"
      ]
     },
     "execution_count": 570,
     "metadata": {},
     "output_type": "execute_result"
    }
   ],
   "source": [
    "rf = RandomForestClassifier(random_state=100)\n",
    "rf.fit(x_train,y_train)\n",
    "#clf = RandomForestClassifier(random_state=0)\n",
    "#clf.fit(X_train_rus,y_train_rus)\n",
    "#print(rf.score(X_train,y_train),rf.score(X_test,y_test))"
   ]
  },
  {
   "cell_type": "code",
   "execution_count": 571,
   "id": "be6b5bba",
   "metadata": {},
   "outputs": [],
   "source": [
    "y_pred = rf.predict_proba(x_test)[:,1]"
   ]
  },
  {
   "cell_type": "code",
   "execution_count": 572,
   "id": "6206a2e4",
   "metadata": {},
   "outputs": [
    {
     "data": {
      "text/plain": [
       "array([0.44, 0.64, 0.67, ..., 0.02, 0.43, 0.01])"
      ]
     },
     "execution_count": 572,
     "metadata": {},
     "output_type": "execute_result"
    }
   ],
   "source": [
    "y_pred"
   ]
  },
  {
   "cell_type": "code",
   "execution_count": 573,
   "id": "ed81b95f",
   "metadata": {},
   "outputs": [
    {
     "data": {
      "image/png": "[encoded data removed]",
      "text/plain": [
       "<Figure size 460.8x403.2 with 1 Axes>"
      ]
     },
     "metadata": {},
     "output_type": "display_data"
    }
   ],
   "source": [
    "jtplot.style(theme='monokai')\n",
    "\n",
    "fpr,tpr,thresholds = roc_curve(y_test,y_pred)\n",
    "plt.plot(fpr,tpr,marker='o')\n",
    "plt.xlabel('False positive rate')\n",
    "plt.ylabel('True positive rate')\n",
    "plt.grid()\n",
    "plt.show()"
   ]
  },
  {
   "cell_type": "code",
   "execution_count": 574,
   "id": "8784365f",
   "metadata": {},
   "outputs": [
    {
     "data": {
      "text/plain": [
       "0.7967149439818251"
      ]
     },
     "execution_count": 574,
     "metadata": {},
     "output_type": "execute_result"
    }
   ],
   "source": [
    "roc_auc_score(y_test,y_pred)"
   ]
  },
  {
   "cell_type": "code",
   "execution_count": 575,
   "id": "eb4c93ac",
   "metadata": {},
   "outputs": [
    {
     "data": {
      "text/plain": [
       "1.0"
      ]
     },
     "execution_count": 575,
     "metadata": {},
     "output_type": "execute_result"
    }
   ],
   "source": [
    "y_pred_train = y_pred = rf.predict_proba(x_train)[:,1]\n",
    "roc_auc_score(y_train,y_pred_train)"
   ]
  },
  {
   "cell_type": "code",
   "execution_count": 576,
   "id": "56ce799f",
   "metadata": {},
   "outputs": [
    {
     "data": {
      "image/png": "[encoded data removed]",
      "text/plain": [
       "<Figure size 460.8x403.2 with 1 Axes>"
      ]
     },
     "metadata": {},
     "output_type": "display_data"
    }
   ],
   "source": [
    "fpr,tpr,thresholds = roc_curve(y_train,y_pred_train)\n",
    "plt.plot(fpr,tpr,marker='o')\n",
    "plt.xlabel('False positive rate')\n",
    "plt.ylabel('True positive rate')\n",
    "plt.grid()\n",
    "plt.show()"
   ]
  },
  {
   "cell_type": "code",
   "execution_count": 578,
   "id": "f2b53b69",
   "metadata": {},
   "outputs": [
    {
     "name": "stdout",
     "output_type": "stream",
     "text": [
      "0.838306524227657\n",
      "0.8060379740962669\n"
     ]
    }
   ],
   "source": [
    "params = {\n",
    "    'min_samples_split':500,\n",
    "    'max_depth':None,\n",
    "    'n_estimators':60,\n",
    "    'criterion':'entropy',\n",
    "    'class_weight':'balanced',\n",
    "    'random_state':100\n",
    "}\n",
    "\n",
    "rf = RandomForestClassifier(**params)\n",
    "rf.fit(x_train,y_train)\n",
    "y_pred_train = rf.predict_proba(x_train)[:,1]\n",
    "y_pred = rf.predict_proba(x_test)[:,1]\n",
    "print(roc_auc_score(y_train,y_pred_train))\n",
    "print(roc_auc_score(y_test,y_pred))"
   ]
  },
  {
   "cell_type": "code",
   "execution_count": 581,
   "id": "cdaef67b",
   "metadata": {},
   "outputs": [
    {
     "data": {
      "text/html": [
       "<div>\n",
       "<style scoped>\n",
       "    .dataframe tbody tr th:only-of-type {\n",
       "        vertical-align: middle;\n",
       "    }\n",
       "\n",
       "    .dataframe tbody tr th {\n",
       "        vertical-align: top;\n",
       "    }\n",
       "\n",
       "    .dataframe thead th {\n",
       "        text-align: right;\n",
       "    }\n",
       "</style>\n",
       "<table border=\"1\" class=\"dataframe\">\n",
       "  <thead>\n",
       "    <tr style=\"text-align: right;\">\n",
       "      <th></th>\n",
       "      <th>features</th>\n",
       "      <th>importance</th>\n",
       "    </tr>\n",
       "  </thead>\n",
       "  <tbody>\n",
       "    <tr>\n",
       "      <th>3</th>\n",
       "      <td>単勝</td>\n",
       "      <td>0.413439</td>\n",
       "    </tr>\n",
       "    <tr>\n",
       "      <th>4</th>\n",
       "      <td>人気</td>\n",
       "      <td>0.360329</td>\n",
       "    </tr>\n",
       "    <tr>\n",
       "      <th>7</th>\n",
       "      <td>体重</td>\n",
       "      <td>0.016546</td>\n",
       "    </tr>\n",
       "    <tr>\n",
       "      <th>8</th>\n",
       "      <td>体重変化</td>\n",
       "      <td>0.010153</td>\n",
       "    </tr>\n",
       "    <tr>\n",
       "      <th>23</th>\n",
       "      <td>騎手_ルメール</td>\n",
       "      <td>0.010110</td>\n",
       "    </tr>\n",
       "    <tr>\n",
       "      <th>6</th>\n",
       "      <td>年齢</td>\n",
       "      <td>0.008884</td>\n",
       "    </tr>\n",
       "    <tr>\n",
       "      <th>5</th>\n",
       "      <td>course_len</td>\n",
       "      <td>0.007722</td>\n",
       "    </tr>\n",
       "    <tr>\n",
       "      <th>97</th>\n",
       "      <td>騎手_川田将雅</td>\n",
       "      <td>0.007667</td>\n",
       "    </tr>\n",
       "    <tr>\n",
       "      <th>1</th>\n",
       "      <td>馬番</td>\n",
       "      <td>0.007571</td>\n",
       "    </tr>\n",
       "    <tr>\n",
       "      <th>2</th>\n",
       "      <td>斤量</td>\n",
       "      <td>0.007163</td>\n",
       "    </tr>\n",
       "    <tr>\n",
       "      <th>160</th>\n",
       "      <td>騎手_福永祐一</td>\n",
       "      <td>0.004910</td>\n",
       "    </tr>\n",
       "    <tr>\n",
       "      <th>0</th>\n",
       "      <td>枠番</td>\n",
       "      <td>0.004131</td>\n",
       "    </tr>\n",
       "    <tr>\n",
       "      <th>102</th>\n",
       "      <td>騎手_戸崎圭太</td>\n",
       "      <td>0.003866</td>\n",
       "    </tr>\n",
       "    <tr>\n",
       "      <th>202</th>\n",
       "      <td>騎手_Ｍ．デム</td>\n",
       "      <td>0.003576</td>\n",
       "    </tr>\n",
       "    <tr>\n",
       "      <th>132</th>\n",
       "      <td>騎手_武豊</td>\n",
       "      <td>0.002675</td>\n",
       "    </tr>\n",
       "    <tr>\n",
       "      <th>83</th>\n",
       "      <td>騎手_山田敬士</td>\n",
       "      <td>0.002217</td>\n",
       "    </tr>\n",
       "    <tr>\n",
       "      <th>218</th>\n",
       "      <td>性_牡</td>\n",
       "      <td>0.002156</td>\n",
       "    </tr>\n",
       "    <tr>\n",
       "      <th>136</th>\n",
       "      <td>騎手_江田照男</td>\n",
       "      <td>0.001956</td>\n",
       "    </tr>\n",
       "    <tr>\n",
       "      <th>147</th>\n",
       "      <td>騎手_田辺裕信</td>\n",
       "      <td>0.001906</td>\n",
       "    </tr>\n",
       "    <tr>\n",
       "      <th>185</th>\n",
       "      <td>騎手_酒井学</td>\n",
       "      <td>0.001784</td>\n",
       "    </tr>\n",
       "  </tbody>\n",
       "</table>\n",
       "</div>"
      ],
      "text/plain": [
       "       features  importance\n",
       "3            単勝    0.413439\n",
       "4            人気    0.360329\n",
       "7            体重    0.016546\n",
       "8          体重変化    0.010153\n",
       "23      騎手_ルメール    0.010110\n",
       "6            年齢    0.008884\n",
       "5    course_len    0.007722\n",
       "97      騎手_川田将雅    0.007667\n",
       "1            馬番    0.007571\n",
       "2            斤量    0.007163\n",
       "160     騎手_福永祐一    0.004910\n",
       "0            枠番    0.004131\n",
       "102     騎手_戸崎圭太    0.003866\n",
       "202     騎手_Ｍ．デム    0.003576\n",
       "132       騎手_武豊    0.002675\n",
       "83      騎手_山田敬士    0.002217\n",
       "218         性_牡    0.002156\n",
       "136     騎手_江田照男    0.001956\n",
       "147     騎手_田辺裕信    0.001906\n",
       "185      騎手_酒井学    0.001784"
      ]
     },
     "execution_count": 581,
     "metadata": {},
     "output_type": "execute_result"
    }
   ],
   "source": [
    "importances = pd.DataFrame({'features':X_train.columns,'importance':rf.feature_importances_})\n",
    "importances.sort_values('importance',ascending=False)[:20]"
   ]
  },
  {
   "cell_type": "markdown",
   "id": "ddd91d6a",
   "metadata": {},
   "source": [
    "## 5.勾配ブースティング木"
   ]
  },
  {
   "cell_type": "code",
   "execution_count": 584,
   "id": "9c43cb50",
   "metadata": {},
   "outputs": [
    {
     "name": "stdout",
     "output_type": "stream",
     "text": [
      "0.838306524227657\n",
      "0.8060379740962669\n"
     ]
    }
   ],
   "source": [
    "params = {\n",
    "    'num_leaves':4,\n",
    "    'n_estimators':80,\n",
    "    #'min_data_in_leaf':15,\n",
    "    'class_weight':'balanced',\n",
    "    'random_leaves':100\n",
    "}\n",
    "\n",
    "lgb_clf = lgb.LGBMClassifier(**params)\n",
    "lgb_clf.fit(x_train.values,y_train.values)\n",
    "y_pred_train = rf.predict_proba(x_train)[:,1]\n",
    "y_pred = rf.predict_proba(x_test)[:,1]\n",
    "print(roc_auc_score(y_train,y_pred_train))\n",
    "print(roc_auc_score(y_test,y_pred))"
   ]
  },
  {
   "cell_type": "code",
   "execution_count": 586,
   "id": "b5b1acaa",
   "metadata": {},
   "outputs": [
    {
     "data": {
      "text/html": [
       "<div>\n",
       "<style scoped>\n",
       "    .dataframe tbody tr th:only-of-type {\n",
       "        vertical-align: middle;\n",
       "    }\n",
       "\n",
       "    .dataframe tbody tr th {\n",
       "        vertical-align: top;\n",
       "    }\n",
       "\n",
       "    .dataframe thead th {\n",
       "        text-align: right;\n",
       "    }\n",
       "</style>\n",
       "<table border=\"1\" class=\"dataframe\">\n",
       "  <thead>\n",
       "    <tr style=\"text-align: right;\">\n",
       "      <th></th>\n",
       "      <th>features</th>\n",
       "      <th>importance</th>\n",
       "    </tr>\n",
       "  </thead>\n",
       "  <tbody>\n",
       "    <tr>\n",
       "      <th>3</th>\n",
       "      <td>単勝</td>\n",
       "      <td>127</td>\n",
       "    </tr>\n",
       "    <tr>\n",
       "      <th>4</th>\n",
       "      <td>人気</td>\n",
       "      <td>24</td>\n",
       "    </tr>\n",
       "    <tr>\n",
       "      <th>7</th>\n",
       "      <td>体重</td>\n",
       "      <td>13</td>\n",
       "    </tr>\n",
       "    <tr>\n",
       "      <th>6</th>\n",
       "      <td>年齢</td>\n",
       "      <td>10</td>\n",
       "    </tr>\n",
       "    <tr>\n",
       "      <th>179</th>\n",
       "      <td>騎手_藤田菜七</td>\n",
       "      <td>8</td>\n",
       "    </tr>\n",
       "    <tr>\n",
       "      <th>8</th>\n",
       "      <td>体重変化</td>\n",
       "      <td>7</td>\n",
       "    </tr>\n",
       "    <tr>\n",
       "      <th>1</th>\n",
       "      <td>馬番</td>\n",
       "      <td>7</td>\n",
       "    </tr>\n",
       "    <tr>\n",
       "      <th>2</th>\n",
       "      <td>斤量</td>\n",
       "      <td>6</td>\n",
       "    </tr>\n",
       "    <tr>\n",
       "      <th>27</th>\n",
       "      <td>騎手_上野翔</td>\n",
       "      <td>4</td>\n",
       "    </tr>\n",
       "    <tr>\n",
       "      <th>5</th>\n",
       "      <td>course_len</td>\n",
       "      <td>3</td>\n",
       "    </tr>\n",
       "    <tr>\n",
       "      <th>150</th>\n",
       "      <td>騎手_的場勇人</td>\n",
       "      <td>3</td>\n",
       "    </tr>\n",
       "    <tr>\n",
       "      <th>103</th>\n",
       "      <td>騎手_斎藤新</td>\n",
       "      <td>3</td>\n",
       "    </tr>\n",
       "    <tr>\n",
       "      <th>94</th>\n",
       "      <td>騎手_嶋田純次</td>\n",
       "      <td>3</td>\n",
       "    </tr>\n",
       "    <tr>\n",
       "      <th>62</th>\n",
       "      <td>騎手_坂井瑠星</td>\n",
       "      <td>3</td>\n",
       "    </tr>\n",
       "    <tr>\n",
       "      <th>0</th>\n",
       "      <td>枠番</td>\n",
       "      <td>2</td>\n",
       "    </tr>\n",
       "    <tr>\n",
       "      <th>185</th>\n",
       "      <td>騎手_酒井学</td>\n",
       "      <td>2</td>\n",
       "    </tr>\n",
       "    <tr>\n",
       "      <th>218</th>\n",
       "      <td>性_牡</td>\n",
       "      <td>2</td>\n",
       "    </tr>\n",
       "    <tr>\n",
       "      <th>32</th>\n",
       "      <td>騎手_丸山元気</td>\n",
       "      <td>1</td>\n",
       "    </tr>\n",
       "    <tr>\n",
       "      <th>159</th>\n",
       "      <td>騎手_石神深一</td>\n",
       "      <td>1</td>\n",
       "    </tr>\n",
       "    <tr>\n",
       "      <th>194</th>\n",
       "      <td>騎手_高倉稜</td>\n",
       "      <td>1</td>\n",
       "    </tr>\n",
       "  </tbody>\n",
       "</table>\n",
       "</div>"
      ],
      "text/plain": [
       "       features  importance\n",
       "3            単勝         127\n",
       "4            人気          24\n",
       "7            体重          13\n",
       "6            年齢          10\n",
       "179     騎手_藤田菜七           8\n",
       "8          体重変化           7\n",
       "1            馬番           7\n",
       "2            斤量           6\n",
       "27       騎手_上野翔           4\n",
       "5    course_len           3\n",
       "150     騎手_的場勇人           3\n",
       "103      騎手_斎藤新           3\n",
       "94      騎手_嶋田純次           3\n",
       "62      騎手_坂井瑠星           3\n",
       "0            枠番           2\n",
       "185      騎手_酒井学           2\n",
       "218         性_牡           2\n",
       "32      騎手_丸山元気           1\n",
       "159     騎手_石神深一           1\n",
       "194      騎手_高倉稜           1"
      ]
     },
     "execution_count": 586,
     "metadata": {},
     "output_type": "execute_result"
    }
   ],
   "source": [
    "importances = pd.DataFrame({'features':X_train.columns,'importance':lgb_clf.feature_importances_})\n",
    "importances.sort_values('importance',ascending=False)[:20]"
   ]
  },
  {
   "cell_type": "markdown",
   "id": "fc1e5f19",
   "metadata": {},
   "source": [
    "## 6.過去のレースデータを入れる"
   ]
  },
  {
   "cell_type": "code",
   "execution_count": 679,
   "id": "be4e8a08",
   "metadata": {},
   "outputs": [],
   "source": [
    "race_id = \"201901010101\"\n",
    "url = \"https://db.netkeiba.com/race/\" + race_id\n",
    "html = requests.get(url)\n",
    "html.encoding = \"EUC-JP\"\n",
    "soup =BeautifulSoup(html.text,\"html.parser\")"
   ]
  },
  {
   "cell_type": "code",
   "execution_count": 680,
   "id": "f5cec08e",
   "metadata": {},
   "outputs": [],
   "source": [
    "test = soup.find('table',attrs={'summary':'レース結果'}).find_all(\"a\",attrs={'href':re.compile('^/horse')})"
   ]
  },
  {
   "cell_type": "code",
   "execution_count": 685,
   "id": "c92bd553",
   "metadata": {},
   "outputs": [
    {
     "data": {
      "text/plain": [
       "[<a href=\"/horse/2017105318/\" id=\"umalink_201901010101\" title=\"ゴルコンダ\">ゴルコンダ</a>,\n",
       " <a href=\"/horse/2017104612/\" id=\"umalink_201901010101\" title=\"プントファイヤー\">プントファイヤー</a>,\n",
       " <a href=\"/horse/2017103879/\" id=\"umalink_201901010101\" title=\"ラグリマスネグラス\">ラグリマスネグラス</a>,\n",
       " <a href=\"/horse/2017106259/\" id=\"umalink_201901010101\" title=\"キタノコドウ\">キタノコドウ</a>,\n",
       " <a href=\"/horse/2017104140/\" id=\"umalink_201901010101\" title=\"ネモフィラブルー\">ネモフィラブルー</a>,\n",
       " <a href=\"/horse/2017101930/\" id=\"umalink_201901010101\" title=\"マイネルラクスマン\">マイネルラクスマン</a>,\n",
       " <a href=\"/horse/2017100184/\" id=\"umalink_201901010101\" title=\"サンモンテベロ\">サンモンテベロ</a>,\n",
       " <a href=\"/horse/2017102953/\" id=\"umalink_201901010101\" title=\"エスカレーション\">エスカレーション</a>,\n",
       " <a href=\"/horse/2017102421/\" id=\"umalink_201901010101\" title=\"セイウンジュリア\">セイウンジュリア</a>]"
      ]
     },
     "execution_count": 685,
     "metadata": {},
     "output_type": "execute_result"
    }
   ],
   "source": [
    "test"
   ]
  },
  {
   "cell_type": "code",
   "execution_count": 681,
   "id": "35c757f5",
   "metadata": {},
   "outputs": [],
   "source": [
    "#soup.find('table',attrs={'summary':'レース結果'}).find_all(\"a\",attrs={'href':re.compile('^/jockey')})"
   ]
  },
  {
   "cell_type": "code",
   "execution_count": 682,
   "id": "6f6f2268",
   "metadata": {},
   "outputs": [
    {
     "data": {
      "text/plain": [
       "['2017105318']"
      ]
     },
     "execution_count": 682,
     "metadata": {},
     "output_type": "execute_result"
    }
   ],
   "source": [
    "re.findall(r'\\d+',test[0]['href'])"
   ]
  },
  {
   "cell_type": "code",
   "execution_count": 683,
   "id": "c7815365",
   "metadata": {},
   "outputs": [],
   "source": [
    "horse_id_list = []\n",
    "for a in test:\n",
    "    horse_id = re.findall(r'\\d+',a['href'])\n",
    "    horse_id_list.append(horse_id[0])"
   ]
  },
  {
   "cell_type": "code",
   "execution_count": 684,
   "id": "5e7e4c66",
   "metadata": {},
   "outputs": [
    {
     "data": {
      "text/plain": [
       "['2017105318',\n",
       " '2017104612',\n",
       " '2017103879',\n",
       " '2017106259',\n",
       " '2017104140',\n",
       " '2017101930',\n",
       " '2017100184',\n",
       " '2017102953',\n",
       " '2017102421']"
      ]
     },
     "execution_count": 684,
     "metadata": {},
     "output_type": "execute_result"
    }
   ],
   "source": [
    "horse_id_list"
   ]
  },
  {
   "cell_type": "code",
   "execution_count": 8,
   "id": "6ccf2e38",
   "metadata": {},
   "outputs": [],
   "source": [
    "\n",
    "def scrape_race_results2(race_id_list, pre_race_results={}):\n",
    "    #race_results = pre_race_results\n",
    "    race_results = pre_race_results.copy() #正しくはこちら。注意点で解説。\n",
    "    for race_id in tqdm(race_id_list):\n",
    "        if race_id in race_results.keys():\n",
    "            continue\n",
    "        try:\n",
    "            url = \"https://db.netkeiba.com/race/\" + race_id\n",
    "            #race_results[race_id] = pd.read_html(url)[0]\n",
    "            df = pd.read_html(url)[0]\n",
    "            #soup = BeautifulSoup(html.text,'html.parser')\n",
    "\n",
    "            #horse_idとjockey_idをスクレイピング\n",
    "            html = requests.get(url)\n",
    "            html.encoding = \"EUC-JP\"\n",
    "            soup =BeautifulSoup(html.text,\"html.parser\")\n",
    "            #horse_id\n",
    "            horse_id_list = []\n",
    "            horse_a_list = soup.find('table',attrs={'summary':'レース結果'}).find_all(\"a\",attrs={'href':re.compile('^/horse')})\n",
    "            for a in horse_a_list:\n",
    "                horse_id = re.findall(r'\\d+',a['href'])\n",
    "                horse_id_list.append(horse_id[0])\n",
    "\n",
    "            #jockey_id\n",
    "            jockey_id_list = []\n",
    "            jockey_a_list = soup.find('table',attrs={'summary':'レース結果'}).find_all(\"a\",attrs={'href':re.compile('^/jockey')})\n",
    "            for a in jockey_a_list:\n",
    "                jockey_id = re.findall(r'\\d+',a['href'])\n",
    "                jockey_id_list.append(jockey_id[0])\n",
    "\n",
    "            df['horse_id'] = horse_id_list\n",
    "            df['fockey_id'] = jockey_id_list\n",
    "            \n",
    "            race_results[race_id] = df\n",
    "            time.sleep(1)\n",
    "        except IndexError:\n",
    "            continue\n",
    "\t#この部分は動画中に無いですが、捕捉できるエラーは拾った方が、エラーが出たときに分かりやすいです\n",
    "        except Exception as e:\n",
    "            print(e)\n",
    "            break\n",
    "        except:\n",
    "\t        break\n",
    "    return race_results\n",
    "#レースIDのリストを作る\n",
    "race_id_list = []\n",
    "for place in range(1, 11, 1):\n",
    "    for kai in range(1, 6, 1):\n",
    "        for day in range(1, 13, 1):\n",
    "            for r in range(1, 13, 1):\n",
    "                race_id = \"2019\" + str(place).zfill(2) + str(kai).zfill(2) +\\\n",
    "\t\t        str(day).zfill(2) + str(r).zfill(2)\n",
    "                race_id_list.append(race_id)\n"
   ]
  },
  {
   "cell_type": "code",
   "execution_count": 11,
   "id": "1ab55fc3",
   "metadata": {},
   "outputs": [
    {
     "ename": "ImportError",
     "evalue": "IProgress not found. Please update jupyter and ipywidgets. See https://ipywidgets.readthedocs.io/en/stable/user_install.html",
     "output_type": "error",
     "traceback": [
      "\u001b[0;31m---------------------------------------------------------------------------\u001b[0m",
      "\u001b[0;31mImportError\u001b[0m                               Traceback (most recent call last)",
      "\u001b[1;32m/home/hoshi/keiba/keiba copy.ipynb Cell 70'\u001b[0m in \u001b[0;36m<cell line: 2>\u001b[0;34m()\u001b[0m\n\u001b[1;32m      <a href='vscode-notebook-cell://wsl%2Bubuntu-20.04/home/hoshi/keiba/keiba%20copy.ipynb#ch0000069vscode-remote?line=0'>1</a>\u001b[0m race_id_list \u001b[39m=\u001b[39m [\u001b[39m'\u001b[39m\u001b[39m201901010101\u001b[39m\u001b[39m'\u001b[39m,\u001b[39m'\u001b[39m\u001b[39m201901010102\u001b[39m\u001b[39m'\u001b[39m,\u001b[39m'\u001b[39m\u001b[39m201901010103\u001b[39m\u001b[39m'\u001b[39m]\n\u001b[0;32m----> <a href='vscode-notebook-cell://wsl%2Bubuntu-20.04/home/hoshi/keiba/keiba%20copy.ipynb#ch0000069vscode-remote?line=1'>2</a>\u001b[0m test \u001b[39m=\u001b[39m scrape_race_results2(race_id_list)\n",
      "\u001b[1;32m/home/hoshi/keiba/keiba copy.ipynb Cell 69'\u001b[0m in \u001b[0;36mscrape_race_results2\u001b[0;34m(race_id_list, pre_race_results)\u001b[0m\n\u001b[1;32m      <a href='vscode-notebook-cell://wsl%2Bubuntu-20.04/home/hoshi/keiba/keiba%20copy.ipynb#ch0000068vscode-remote?line=0'>1</a>\u001b[0m \u001b[39mdef\u001b[39;00m \u001b[39mscrape_race_results2\u001b[39m(race_id_list, pre_race_results\u001b[39m=\u001b[39m{}):\n\u001b[1;32m      <a href='vscode-notebook-cell://wsl%2Bubuntu-20.04/home/hoshi/keiba/keiba%20copy.ipynb#ch0000068vscode-remote?line=1'>2</a>\u001b[0m     \u001b[39m#race_results = pre_race_results\u001b[39;00m\n\u001b[1;32m      <a href='vscode-notebook-cell://wsl%2Bubuntu-20.04/home/hoshi/keiba/keiba%20copy.ipynb#ch0000068vscode-remote?line=2'>3</a>\u001b[0m     race_results \u001b[39m=\u001b[39m pre_race_results\u001b[39m.\u001b[39mcopy() \u001b[39m#正しくはこちら。注意点で解説。\u001b[39;00m\n\u001b[0;32m----> <a href='vscode-notebook-cell://wsl%2Bubuntu-20.04/home/hoshi/keiba/keiba%20copy.ipynb#ch0000068vscode-remote?line=3'>4</a>\u001b[0m     \u001b[39mfor\u001b[39;00m race_id \u001b[39min\u001b[39;00m tqdm(race_id_list):\n\u001b[1;32m      <a href='vscode-notebook-cell://wsl%2Bubuntu-20.04/home/hoshi/keiba/keiba%20copy.ipynb#ch0000068vscode-remote?line=4'>5</a>\u001b[0m         \u001b[39mif\u001b[39;00m race_id \u001b[39min\u001b[39;00m race_results\u001b[39m.\u001b[39mkeys():\n\u001b[1;32m      <a href='vscode-notebook-cell://wsl%2Bubuntu-20.04/home/hoshi/keiba/keiba%20copy.ipynb#ch0000068vscode-remote?line=5'>6</a>\u001b[0m             \u001b[39mcontinue\u001b[39;00m\n",
      "File \u001b[0;32m~/.local/lib/python3.8/site-packages/tqdm/notebook.py:242\u001b[0m, in \u001b[0;36mtqdm_notebook.__init__\u001b[0;34m(self, *args, **kwargs)\u001b[0m\n\u001b[1;32m    <a href='file:///~/.local/lib/python3.8/site-packages/tqdm/notebook.py?line=239'>240</a>\u001b[0m unit_scale \u001b[39m=\u001b[39m \u001b[39m1\u001b[39m \u001b[39mif\u001b[39;00m \u001b[39mself\u001b[39m\u001b[39m.\u001b[39munit_scale \u001b[39mis\u001b[39;00m \u001b[39mTrue\u001b[39;00m \u001b[39melse\u001b[39;00m \u001b[39mself\u001b[39m\u001b[39m.\u001b[39munit_scale \u001b[39mor\u001b[39;00m \u001b[39m1\u001b[39m\n\u001b[1;32m    <a href='file:///~/.local/lib/python3.8/site-packages/tqdm/notebook.py?line=240'>241</a>\u001b[0m total \u001b[39m=\u001b[39m \u001b[39mself\u001b[39m\u001b[39m.\u001b[39mtotal \u001b[39m*\u001b[39m unit_scale \u001b[39mif\u001b[39;00m \u001b[39mself\u001b[39m\u001b[39m.\u001b[39mtotal \u001b[39melse\u001b[39;00m \u001b[39mself\u001b[39m\u001b[39m.\u001b[39mtotal\n\u001b[0;32m--> <a href='file:///~/.local/lib/python3.8/site-packages/tqdm/notebook.py?line=241'>242</a>\u001b[0m \u001b[39mself\u001b[39m\u001b[39m.\u001b[39mcontainer \u001b[39m=\u001b[39m \u001b[39mself\u001b[39;49m\u001b[39m.\u001b[39;49mstatus_printer(\u001b[39mself\u001b[39;49m\u001b[39m.\u001b[39;49mfp, total, \u001b[39mself\u001b[39;49m\u001b[39m.\u001b[39;49mdesc, \u001b[39mself\u001b[39;49m\u001b[39m.\u001b[39;49mncols)\n\u001b[1;32m    <a href='file:///~/.local/lib/python3.8/site-packages/tqdm/notebook.py?line=242'>243</a>\u001b[0m \u001b[39mself\u001b[39m\u001b[39m.\u001b[39mcontainer\u001b[39m.\u001b[39mpbar \u001b[39m=\u001b[39m proxy(\u001b[39mself\u001b[39m)\n\u001b[1;32m    <a href='file:///~/.local/lib/python3.8/site-packages/tqdm/notebook.py?line=243'>244</a>\u001b[0m \u001b[39mself\u001b[39m\u001b[39m.\u001b[39mdisplayed \u001b[39m=\u001b[39m \u001b[39mFalse\u001b[39;00m\n",
      "File \u001b[0;32m~/.local/lib/python3.8/site-packages/tqdm/notebook.py:118\u001b[0m, in \u001b[0;36mtqdm_notebook.status_printer\u001b[0;34m(_, total, desc, ncols)\u001b[0m\n\u001b[1;32m    <a href='file:///~/.local/lib/python3.8/site-packages/tqdm/notebook.py?line=108'>109</a>\u001b[0m \u001b[39m# Fallback to text bar if there's no total\u001b[39;00m\n\u001b[1;32m    <a href='file:///~/.local/lib/python3.8/site-packages/tqdm/notebook.py?line=109'>110</a>\u001b[0m \u001b[39m# DEPRECATED: replaced with an 'info' style bar\u001b[39;00m\n\u001b[1;32m    <a href='file:///~/.local/lib/python3.8/site-packages/tqdm/notebook.py?line=110'>111</a>\u001b[0m \u001b[39m# if not total:\u001b[39;00m\n\u001b[0;32m   (...)\u001b[0m\n\u001b[1;32m    <a href='file:///~/.local/lib/python3.8/site-packages/tqdm/notebook.py?line=114'>115</a>\u001b[0m \n\u001b[1;32m    <a href='file:///~/.local/lib/python3.8/site-packages/tqdm/notebook.py?line=115'>116</a>\u001b[0m \u001b[39m# Prepare IPython progress bar\u001b[39;00m\n\u001b[1;32m    <a href='file:///~/.local/lib/python3.8/site-packages/tqdm/notebook.py?line=116'>117</a>\u001b[0m \u001b[39mif\u001b[39;00m IProgress \u001b[39mis\u001b[39;00m \u001b[39mNone\u001b[39;00m:  \u001b[39m# #187 #451 #558 #872\u001b[39;00m\n\u001b[0;32m--> <a href='file:///~/.local/lib/python3.8/site-packages/tqdm/notebook.py?line=117'>118</a>\u001b[0m     \u001b[39mraise\u001b[39;00m \u001b[39mImportError\u001b[39;00m(WARN_NOIPYW)\n\u001b[1;32m    <a href='file:///~/.local/lib/python3.8/site-packages/tqdm/notebook.py?line=118'>119</a>\u001b[0m \u001b[39mif\u001b[39;00m total:\n\u001b[1;32m    <a href='file:///~/.local/lib/python3.8/site-packages/tqdm/notebook.py?line=119'>120</a>\u001b[0m     pbar \u001b[39m=\u001b[39m IProgress(\u001b[39mmin\u001b[39m\u001b[39m=\u001b[39m\u001b[39m0\u001b[39m, \u001b[39mmax\u001b[39m\u001b[39m=\u001b[39mtotal)\n",
      "\u001b[0;31mImportError\u001b[0m: IProgress not found. Please update jupyter and ipywidgets. See https://ipywidgets.readthedocs.io/en/stable/user_install.html"
     ]
    }
   ],
   "source": [
    "race_id_list = ['201901010101','201901010102','201901010103']\n",
    "test = scrape_race_results2(race_id_list)"
   ]
  },
  {
   "cell_type": "code",
   "execution_count": 10,
   "id": "8b3b696b",
   "metadata": {},
   "outputs": [
    {
     "ename": "NameError",
     "evalue": "name 'test' is not defined",
     "output_type": "error",
     "traceback": [
      "\u001b[0;31m---------------------------------------------------------------------------\u001b[0m",
      "\u001b[0;31mNameError\u001b[0m                                 Traceback (most recent call last)",
      "\u001b[1;32m/home/hoshi/keiba/keiba copy.ipynb Cell 71'\u001b[0m in \u001b[0;36m<cell line: 1>\u001b[0;34m()\u001b[0m\n\u001b[0;32m----> <a href='vscode-notebook-cell://wsl%2Bubuntu-20.04/home/hoshi/keiba/keiba%20copy.ipynb#ch0000070vscode-remote?line=0'>1</a>\u001b[0m test\n",
      "\u001b[0;31mNameError\u001b[0m: name 'test' is not defined"
     ]
    }
   ],
   "source": [
    "test"
   ]
  },
  {
   "cell_type": "code",
   "execution_count": null,
   "id": "2bb38ea4",
   "metadata": {},
   "outputs": [],
   "source": []
  }
 ],
 "metadata": {
  "kernelspec": {
   "display_name": "Python 3",
   "language": "python",
   "name": "python3"
  },
  "language_info": {
   "codemirror_mode": {
    "name": "ipython",
    "version": 3
   },
   "file_extension": ".py",
   "mimetype": "text/x-python",
   "name": "python",
   "nbconvert_exporter": "python",
   "pygments_lexer": "ipython3",
   "version": "3.8.10"
  }
 },
 "nbformat": 4,
 "nbformat_minor": 5
}
